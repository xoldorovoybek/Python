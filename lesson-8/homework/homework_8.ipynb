{
 "cells": [
  {
   "cell_type": "markdown",
   "id": "be2819b2",
   "metadata": {},
   "source": [
    "## Exception Handling Exercises\n",
    "\n",
    "1. Write a Python program to handle a `ZeroDivisionError` exception when dividing a number by zero.\n"
   ]
  },
  {
   "cell_type": "code",
   "execution_count": 8,
   "id": "5fa8033a",
   "metadata": {},
   "outputs": [
    {
     "name": "stdout",
     "output_type": "stream",
     "text": [
      "Eror.You can`t divide by zero\n"
     ]
    }
   ],
   "source": [
    "def divide(a,b):\n",
    "    try:\n",
    "        result= a/b\n",
    "        print(f\"result: {result}\")\n",
    "    except ZeroDivisionError:\n",
    "            print(\"Eror.You can`t divide by zero\")\n",
    "\n",
    "divide(10,0)\n",
    "    \n"
   ]
  },
  {
   "cell_type": "markdown",
   "id": "0c19a7b4",
   "metadata": {},
   "source": [
    "2. Write a Python program that prompts the user to input an integer and raises a `ValueError` exception if the input is not a valid integer.\n"
   ]
  },
  {
   "cell_type": "code",
   "execution_count": 17,
   "id": "aec6724f",
   "metadata": {},
   "outputs": [
    {
     "name": "stdout",
     "output_type": "stream",
     "text": [
      "Invalid integer\n"
     ]
    }
   ],
   "source": [
    "\n",
    "def divide(a,b):\n",
    "    try:\n",
    "        a=int(a)\n",
    "        b=int(b)\n",
    "        result = a/b\n",
    "        print(f\"result: {result}\")\n",
    "    except ValueError:\n",
    "            print(\"Invalid integer\")\n",
    "\n",
    "divide(\"10\", \"2.5\" )"
   ]
  },
  {
   "cell_type": "markdown",
   "id": "484c5add",
   "metadata": {},
   "source": [
    "3. Write a Python program that opens a file and handles a `FileNotFoundError` exception if the file does not exist.\n"
   ]
  },
  {
   "cell_type": "code",
   "execution_count": 1,
   "id": "24f1f812",
   "metadata": {},
   "outputs": [
    {
     "name": "stdout",
     "output_type": "stream",
     "text": [
      " Xatolik: data.csv topilmadi.\n"
     ]
    }
   ],
   "source": [
    "file_name = 'data.csv'\n",
    "try:\n",
    "    with open(file_name, 'r') as file:\n",
    "        content = file.read()\n",
    "        print(content)\n",
    "except FileNotFoundError:\n",
    "    print(f' Xatolik: {file_name} topilmadi.')"
   ]
  },
  {
   "cell_type": "markdown",
   "id": "f8d32349",
   "metadata": {},
   "source": [
    "Write a Python program that prompts the user to input two numbers and raises a TypeError exception if the inputs are not numerical.\n",
    "\n"
   ]
  },
  {
   "cell_type": "code",
   "execution_count": 31,
   "id": "6acb6b7d",
   "metadata": {},
   "outputs": [
    {
     "name": "stdout",
     "output_type": "stream",
     "text": [
      "a va b sonlar int yoki str bo`lishi lozim\n"
     ]
    }
   ],
   "source": [
    "a = 10\n",
    "b = 'salom'\n",
    "try:\n",
    "    result= a+b\n",
    "    print(result)\n",
    "except TypeError:\n",
    "    print(f'a va b sonlar int yoki str bo`lishi lozim')\n"
   ]
  },
  {
   "cell_type": "markdown",
   "id": "b06442b2",
   "metadata": {},
   "source": [
    "Write a Python program that opens a file and handles a PermissionError exception if there is a permission issue."
   ]
  },
  {
   "cell_type": "markdown",
   "id": "230ddb7c",
   "metadata": {},
   "source": [
    "file_name = 'C:\\\\Users\\\\data.csv'\n",
    "try:\n",
    "    with open(file_name, 'r') as file:\n",
    "        content = file.read()\n",
    "        print(content)\n",
    "except PermissionError:\n",
    "    print(\" Xatolik: ruhsat yo`q.\")"
   ]
  },
  {
   "cell_type": "markdown",
   "id": "b3d673ec",
   "metadata": {},
   "source": [
    "6. Write a Python program that executes an operation on a list and handles an `IndexError` exception if the index is out of range.\n"
   ]
  },
  {
   "cell_type": "code",
   "execution_count": 2,
   "id": "8f9f455c",
   "metadata": {},
   "outputs": [
    {
     "name": "stdout",
     "output_type": "stream",
     "text": [
      "Indeks xatolik\n"
     ]
    }
   ],
   "source": [
    "my_list = [6, 5, 8]\n",
    "try:\n",
    "    print(my_list[5])\n",
    "except IndexError:\n",
    "    print('Indeks xatolik')"
   ]
  },
  {
   "cell_type": "markdown",
   "id": "e733b657",
   "metadata": {},
   "source": [
    "7. Write a Python program that prompts the user to input a number and handles a `KeyboardInterrupt` exception if the user cancels the input.\n"
   ]
  },
  {
   "cell_type": "code",
   "execution_count": 7,
   "id": "6a97b3bc",
   "metadata": {},
   "outputs": [
    {
     "name": "stdout",
     "output_type": "stream",
     "text": [
      "dastur ishga tushirildi. chiqish uchun ctr+C ni bosing\n",
      "\n",
      "Dastur foydalanuvchi tomondan to`xtatildi. (Ctrl+C)\n"
     ]
    }
   ],
   "source": [
    "try:\n",
    "    print(\"dastur ishga tushirildi. chiqish uchun ctr+C ni bosing\")\n",
    "    while True:\n",
    "        pass\n",
    "except KeyboardInterrupt:\n",
    "    print(\"\\nDastur foydalanuvchi tomondan to`xtatildi. (Ctrl+C)\")"
   ]
  },
  {
   "cell_type": "markdown",
   "id": "66365777",
   "metadata": {},
   "source": [
    "8. Write a Python program that executes division and handles an `ArithmeticError` exception if there is an arithmetic error.\n"
   ]
  },
  {
   "cell_type": "code",
   "execution_count": 8,
   "id": "81b418b2",
   "metadata": {},
   "outputs": [
    {
     "name": "stdout",
     "output_type": "stream",
     "text": [
      "Xatolik bo`ldi. Nolga ten bo`lishi mumkin emas.\n"
     ]
    }
   ],
   "source": [
    "try:\n",
    "    a=10\n",
    "    b=0\n",
    "    result=a/b\n",
    "except ArithmeticError:\n",
    "    print(\"Xatolik bo`ldi. Nolga ten bo`lishi mumkin emas.\")"
   ]
  },
  {
   "cell_type": "markdown",
   "id": "23677928",
   "metadata": {},
   "source": [
    "9. Write a Python program that opens a file and handles a `UnicodeDecodeError` exception if there is an encoding issue."
   ]
  },
  {
   "cell_type": "code",
   "execution_count": null,
   "id": "72453f35",
   "metadata": {},
   "outputs": [],
   "source": [
    "file_n = 'text.txt'\n",
    "try:\n",
    "    with open(file_n, 'r', encoding='ascii') as f:\n",
    "        content = f.read()\n",
    "        print(content)\n",
    "except UnicodeDecodeError:\n",
    "    print(\"Xatolik. Boshqa kodlar bilan ham kiritish mumkin.\") "
   ]
  },
  {
   "cell_type": "markdown",
   "id": "dae12f3c",
   "metadata": {},
   "source": [
    "10. Write a Python program that executes a list operation and handles an `AttributeError` exception if the attribute does not exist.\n"
   ]
  },
  {
   "cell_type": "code",
   "execution_count": 9,
   "id": "d5cb0f65",
   "metadata": {},
   "outputs": [
    {
     "name": "stdout",
     "output_type": "stream",
     "text": [
      "Xatolik. Bunday atribut kiritish yo`q.\n"
     ]
    }
   ],
   "source": [
    "my_num = 10\n",
    "try:\n",
    "    my_num.append(5)\n",
    "except AttributeError:\n",
    "    print(\"Xatolik. Bunday atribut kiritish yo`q.\")"
   ]
  },
  {
   "cell_type": "markdown",
   "id": "ed75641b",
   "metadata": {},
   "source": [
    "# Python File Input Output: Exercises, Practice, Solution\n",
    "\n",
    "## File Input/Output Exercises\n",
    "\n",
    "1. Write a Python program to read an entire text file."
   ]
  },
  {
   "cell_type": "code",
   "execution_count": 10,
   "id": "25de36ac",
   "metadata": {},
   "outputs": [
    {
     "ename": "NameError",
     "evalue": "name 'file_n' is not defined",
     "output_type": "error",
     "traceback": [
      "\u001b[31m---------------------------------------------------------------------------\u001b[39m",
      "\u001b[31mNameError\u001b[39m                                 Traceback (most recent call last)",
      "\u001b[36mCell\u001b[39m\u001b[36m \u001b[39m\u001b[32mIn[10]\u001b[39m\u001b[32m, line 2\u001b[39m\n\u001b[32m      1\u001b[39m file_r = \u001b[33m'\u001b[39m\u001b[33mtye.txt\u001b[39m\u001b[33m'\u001b[39m\n\u001b[32m----> \u001b[39m\u001b[32m2\u001b[39m \u001b[38;5;28mprint\u001b[39m(\u001b[43mfile_n\u001b[49m.read())\n",
      "\u001b[31mNameError\u001b[39m: name 'file_n' is not defined"
     ]
    }
   ],
   "source": [
    "file_r = 'tye.txt'\n",
    "print(file_n.read())"
   ]
  },
  {
   "cell_type": "markdown",
   "id": "4892184c",
   "metadata": {},
   "source": [
    "2. Write a Python program to read first `n` lines of a file.\n"
   ]
  },
  {
   "cell_type": "code",
   "execution_count": null,
   "id": "672ad2f9",
   "metadata": {},
   "outputs": [],
   "source": [
    "test_file = 'test.txt'\n",
    "n = int(input(\"Nechta qatorni o`qishni hohlaysiz\"))\n",
    "try:\n",
    "    with open(test_file, 'r', encoding='utf-8') as file:\n",
    "        for i in range(n):\n",
    "            line = file.readline()\n",
    "            if line == ' ':\n",
    "                print(\"Fayl ohiriga yetib keldik\")\n",
    "                break\n",
    "            print(line.strip())\n",
    "except FileNotFoundError:\n",
    "    print(\"Xatolik. Fayl topilmadi\")    \n",
    "except UnicodeDecodeError:\n",
    "    print(\"Xatolik. Fayl o`qishda xatolik bo`ldi\")\n"
   ]
  },
  {
   "cell_type": "markdown",
   "id": "e62a301c",
   "metadata": {},
   "source": []
  },
  {
   "cell_type": "markdown",
   "id": "abec8b67",
   "metadata": {},
   "source": [
    "3. Write a Python program to append text to a file and display the text.\n"
   ]
  },
  {
   "cell_type": "code",
   "execution_count": null,
   "id": "ba24dd0c",
   "metadata": {},
   "outputs": [],
   "source": [
    "file_name= 'test.txt'\n",
    "text_app = input(\"qo`shmoqchi bo`lgan matnni kiriting: \")\n",
    "try:\n",
    "    with open(file_name, 'a', encoding='utf-8') as file:\n",
    "        file.write(text_app+ '\\n' )\n",
    "    with open(file_name, 'r', encoding='utf-8') as file:\n",
    "        content = file.read()\n",
    "        print(content)\n",
    "except FileNotFoundError:\n",
    "    print(\"Xatolik. Fayl topilmadi\")    \n",
    "except UnicodeDecodeError:\n",
    "    print(\"Xatolik. Fayl o`qishda xatolik bo`ldi\")        "
   ]
  },
  {
   "cell_type": "markdown",
   "id": "4e11beb2",
   "metadata": {},
   "source": [
    "4. Write a Python program to read last `n` lines of a file.\n"
   ]
  },
  {
   "cell_type": "code",
   "execution_count": null,
   "id": "80e1c719",
   "metadata": {},
   "outputs": [],
   "source": [
    "test_file = 'test.txt'\n",
    "n = int(input(\"Nechta oxirgi qatorni o`qishni hohlaysiz\"))\n",
    "try:\n",
    "    with open(test_file, 'r', encoding='utf-8') as file:\n",
    "        lines = file.readlines()\n",
    "        print(\"\\nFaylning ohirgi\", n, \"qatori: \")\n",
    "        for line in lines[-n]:\n",
    "            print(line.strip())\n",
    "except FileNotFoundError:\n",
    "    print(\"Xatolik. Fayl topilmadi\")    \n",
    "except UnicodeDecodeError:\n",
    "    print(\"Xatolik. Fayl o`qishda xatolik bo`ldi\")"
   ]
  },
  {
   "cell_type": "markdown",
   "id": "286f0689",
   "metadata": {},
   "source": [
    "5. Write a Python program to read a file line by line and store it into a list."
   ]
  },
  {
   "cell_type": "code",
   "execution_count": null,
   "id": "4dfa9cc9",
   "metadata": {},
   "outputs": [],
   "source": [
    "test_file = 'test.txt'\n",
    "try:\n",
    "    with open(test_file, 'r', encoding='utf-8') as file:\n",
    "        lines = file.readlines()\n",
    "    lines=[line.strip() for line in lines]    \n",
    "    print(\"fayldagi qatorlar ro`yxati:\")\n",
    "    print(lines)\n",
    "except FileNotFoundError:\n",
    "    print(\"Xatolik. Fayl topilmadi\")    \n",
    "except UnicodeDecodeError:\n",
    "    print(\"Xatolik. Fayl o`qishda xatolik bo`ldi\")"
   ]
  },
  {
   "cell_type": "markdown",
   "id": "c9948e1b",
   "metadata": {},
   "source": [
    "6. Write a Python program to read a file line by line and store it into a variable."
   ]
  },
  {
   "cell_type": "code",
   "execution_count": null,
   "id": "2217e068",
   "metadata": {},
   "outputs": [],
   "source": [
    "test_file = 'test.txt'\n",
    "try:\n",
    "    with open(test_file, 'r', encoding='utf-8') as file:\n",
    "        content = ''\n",
    "        for line in file:\n",
    "            content += line\n",
    "    print(\"fayldagi matn:\")\n",
    "    print(content)\n",
    "except FileNotFoundError:\n",
    "    print(\"Xatolik. Fayl topilmadi\")    \n",
    "except UnicodeDecodeError:\n",
    "    print(\"Xatolik. Fayl o`qishda xatolik bo`ldi\")"
   ]
  },
  {
   "cell_type": "markdown",
   "id": "3bab9f57",
   "metadata": {},
   "source": [
    "7. Write a Python program to read a file line by line and store it into an array."
   ]
  },
  {
   "cell_type": "code",
   "execution_count": null,
   "id": "124fc8de",
   "metadata": {},
   "outputs": [],
   "source": [
    "test_file = 'test.txt'\n",
    "try:\n",
    "    with open(test_file, 'r', encoding='utf-8') as file:\n",
    "        line_array = []\n",
    "        for line in file:\n",
    "            line_array.append(line.strip())\n",
    "    print(\"fayldagi qatorlar massiv ko`rinishida:\")\n",
    "    print(line_array)\n",
    "except FileNotFoundError:\n",
    "    print(\"Xatolik. Fayl topilmadi\")    \n",
    "except UnicodeDecodeError:\n",
    "    print(\"Xatolik. Fayl o`qishda xatolik bo`ldi\")"
   ]
  },
  {
   "cell_type": "markdown",
   "id": "75a96c0c",
   "metadata": {},
   "source": [
    "8. Write a Python program to find the longest words."
   ]
  },
  {
   "cell_type": "code",
   "execution_count": null,
   "id": "4cd25823",
   "metadata": {},
   "outputs": [],
   "source": []
  },
  {
   "cell_type": "markdown",
   "id": "2cf417f6",
   "metadata": {},
   "source": [
    "9. Write a Python program to count the number of lines in a text file."
   ]
  },
  {
   "cell_type": "code",
   "execution_count": null,
   "id": "896d0e39",
   "metadata": {},
   "outputs": [],
   "source": [
    "test_file = 'test.txt'\n",
    "try:\n",
    "    with open(test_file, 'r', encoding='utf-8') as file:\n",
    "        line_count = sum(1 for line in file)\n",
    "    print(f\"fayldagi qatorlar soni: {line_count}\")\n",
    "except FileNotFoundError:\n",
    "    print(\"Xatolik. Fayl topilmadi\")    \n",
    "except UnicodeDecodeError:\n",
    "    print(\"Xatolik. Fayl o`qishda xatolik bo`ldi\")"
   ]
  },
  {
   "cell_type": "markdown",
   "id": "c6b48b35",
   "metadata": {},
   "source": [
    "10. Write a Python program to count the frequency of words in a file."
   ]
  },
  {
   "cell_type": "code",
   "execution_count": null,
   "id": "dfa92943",
   "metadata": {},
   "outputs": [],
   "source": [
    "test_file = 'test.txt'\n",
    "\n",
    "try:\n",
    "    with open(test_file, 'r', encoding='utf-8') as file:\n",
    "        text = file.read()\n",
    "        words = text.split()\n",
    "        \n",
    "        words_count = {}  \n",
    "\n",
    "        for word in words:\n",
    "            word = word.lower().strip(\".,!?;:()[]{}\\\"'\") \n",
    "            words_count[word] = words_count.get(word, 0) + 1\n",
    "\n",
    "        for word, count in words_count.items():\n",
    "            print(f\"{word}: {count}\")\n",
    "\n",
    "except FileNotFoundError:\n",
    "    print(\"Xatolik. Fayl topilmadi\")    \n",
    "except UnicodeDecodeError:\n",
    "    print(\"Xatolik. Fayl o`qishda xatolik bo`ldi\")\n"
   ]
  }
 ],
 "metadata": {
  "kernelspec": {
   "display_name": "Python 3",
   "language": "python",
   "name": "python3"
  },
  "language_info": {
   "codemirror_mode": {
    "name": "ipython",
    "version": 3
   },
   "file_extension": ".py",
   "mimetype": "text/x-python",
   "name": "python",
   "nbconvert_exporter": "python",
   "pygments_lexer": "ipython3",
   "version": "3.13.3"
  }
 },
 "nbformat": 4,
 "nbformat_minor": 5
}
