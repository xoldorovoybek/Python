{
 "cells": [
  {
   "cell_type": "markdown",
   "id": "7bc45c8b",
   "metadata": {},
   "source": [
    "1.Create a new database with a table named Roster that has three fields: Name, Species, and Age. The Name and Species columns should be text fields, and the Age column should be an integer field."
   ]
  },
  {
   "cell_type": "code",
   "execution_count": null,
   "id": "bb33ba1e",
   "metadata": {},
   "outputs": [
    {
     "data": {
      "text/plain": [
       "<pyodbc.Cursor at 0x1fb88387430>"
      ]
     },
     "execution_count": 26,
     "metadata": {},
     "output_type": "execute_result"
    }
   ],
   "source": [
    "import pyodbc\n",
    "coonn = pyodbc.connect(\n",
    "    \"Driver={SQL Server};\"\n",
    "    \"Server=WIN-HV90QGCGP0G;\"\n",
    "    \"Database=Samandar;\"\n",
    "    \"Trusted_Connection=yes;\"\n",
    ")\n",
    "cursor1 = coonn.cursor()\n",
    "creating_query = \"\"\" Create table Roster (Name varchar(50), Species varchar(50), Age int)\n",
    "\"\"\"\n",
    "\n",
    "insert_query = \"\"\"INSERT INTO Roster (Name, Species, Age) VALUES \n",
    "('Benjamin Sisko', 'Human', 40),\n",
    "('Jadzia Dax', 'Trill', 300),\n",
    "('Kira Nerys', 'Bajoran', 29)\"\"\"\n",
    "cursor1.execute(insert_query)\n",
    "\n",
    "cursor1.execute(\"\"\" \n",
    "              select * from Roster\n",
    "               \"\"\")\n",
    "cursor1.fetchall()\n",
    "\n",
    "coonn.commit()\n",
    "coonn.close()\n",
    "\n"
   ]
  },
  {
   "cell_type": "markdown",
   "id": "b0169b89",
   "metadata": {},
   "source": [
    "2.Populate your new table with the following values:\n",
    "\n",
    "Name\tSpecies\tAge\n",
    "Benjamin Sisko\tHuman\t40\n",
    "Jadzia Dax\tTrill\t300\n",
    "Kira Nerys\tBajoran\t29"
   ]
  },
  {
   "cell_type": "code",
   "execution_count": 1,
   "id": "82e4a540",
   "metadata": {},
   "outputs": [],
   "source": [
    "import pyodbc\n",
    "coonn = pyodbc.connect(\n",
    "    \"Driver={SQL Server};\"\n",
    "    \"Server=WIN-HV90QGCGP0G;\"\n",
    "    \"Database=Samandar;\"\n",
    "    \"Trusted_Connection=yes;\"\n",
    ")\n",
    "cursor1 = coonn.cursor()\n",
    "creating_query = \"\"\" Create table Roster (Name varchar(50), Species varchar(50), Age int)\n",
    "\"\"\"\n",
    "\n",
    "insert_query = \"\"\"INSERT INTO Roster (Name, Species, Age) VALUES \n",
    "('Benjamin Sisko', 'Human', 40),\n",
    "('Jadzia Dax', 'Trill', 300),\n",
    "('Kira Nerys', 'Bajoran', 29)\"\"\"\n",
    "cursor1.execute(insert_query)\n",
    "\n",
    "cursor1.execute(\"\"\" \n",
    "              select * from Roster\n",
    "               \"\"\")\n",
    "cursor1.fetchall()\n",
    "\n",
    "coonn.commit()\n",
    "coonn.close()\n"
   ]
  },
  {
   "cell_type": "markdown",
   "id": "7780786f",
   "metadata": {},
   "source": [
    "3.Update the Name of Jadzia Dax to be Ezri Dax"
   ]
  },
  {
   "cell_type": "code",
   "execution_count": 4,
   "id": "5b1fcc7f",
   "metadata": {},
   "outputs": [
    {
     "data": {
      "text/plain": [
       "[('Benjamin Sisko', 'Human', 40),\n",
       " ('Ezri Dax', 'Trill', 300),\n",
       " ('Kira Nerys', 'Bajoran', 29)]"
      ]
     },
     "execution_count": 4,
     "metadata": {},
     "output_type": "execute_result"
    }
   ],
   "source": [
    "import pyodbc\n",
    "coonn = pyodbc.connect(\n",
    "    \"Driver={SQL Server};\"\n",
    "    \"Server=WIN-HV90QGCGP0G;\"\n",
    "    \"Database=Samandar;\"\n",
    "    \"Trusted_Connection=yes;\"\n",
    ")\n",
    "cursor1 = coonn.cursor()\n",
    "\n",
    "update_query = \"\"\"\n",
    "    UPDATE Roster\n",
    "    SET Name = 'Ezri Dax'\n",
    "    WHERE Name = 'Jadzia Dax'\n",
    "\"\"\"\n",
    "\n",
    "cursor1.execute(update_query) \n",
    "cursor1.execute(\"select * from Roster\")\n",
    "cursor1.fetchall()\n"
   ]
  },
  {
   "cell_type": "markdown",
   "id": "fe3be678",
   "metadata": {},
   "source": [
    "4.Display the Name and Age of everyone in the table classified as Bajoran."
   ]
  },
  {
   "cell_type": "code",
   "execution_count": 5,
   "id": "8e88e9e4",
   "metadata": {},
   "outputs": [
    {
     "data": {
      "text/plain": [
       "[(29, 'Kira Nerys')]"
      ]
     },
     "execution_count": 5,
     "metadata": {},
     "output_type": "execute_result"
    }
   ],
   "source": [
    "import pyodbc\n",
    "coonn = pyodbc.connect(\n",
    "    \"Driver={SQL Server};\"\n",
    "    \"Server=WIN-HV90QGCGP0G;\"\n",
    "    \"Database=Samandar;\"\n",
    "    \"Trusted_Connection=yes;\"\n",
    ")\n",
    "cursor1 = coonn.cursor()\n",
    "cursor1.execute(\"select Age, Name from Roster Where Species = 'Bajoran'\")\n",
    "cursor1.fetchall()\n"
   ]
  }
 ],
 "metadata": {
  "kernelspec": {
   "display_name": "Python 3",
   "language": "python",
   "name": "python3"
  },
  "language_info": {
   "codemirror_mode": {
    "name": "ipython",
    "version": 3
   },
   "file_extension": ".py",
   "mimetype": "text/x-python",
   "name": "python",
   "nbconvert_exporter": "python",
   "pygments_lexer": "ipython3",
   "version": "3.13.3"
  }
 },
 "nbformat": 4,
 "nbformat_minor": 5
}
