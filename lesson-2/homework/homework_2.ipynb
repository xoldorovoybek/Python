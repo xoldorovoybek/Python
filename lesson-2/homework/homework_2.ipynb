{
 "cells": [
  {
   "cell_type": "code",
   "execution_count": 38,
   "id": "b254acef",
   "metadata": {},
   "outputs": [
    {
     "name": "stdout",
     "output_type": "stream",
     "text": [
      "Your name is Muzaffar. You are 25 years old\n"
     ]
    }
   ],
   "source": [
    "## 1. Age Calculator\n",
    "#Write a Python program to ask for a user's name and year of birth, then calculate and display their age.\n",
    "from datetime import datetime\n",
    "#Ask to name\n",
    "name = input('what is your name? ')\n",
    "#ask to birh of year\n",
    "year_of_birth = int(input('what year are you born? '))\n",
    "today = datetime.now().year\n",
    "\n",
    "age = today - year_of_birth\n",
    "age\n",
    "print(f\"Your name is {name.title()}. You are {age} years old\")\n",
    "\n"
   ]
  },
  {
   "cell_type": "code",
   "execution_count": 32,
   "id": "28bc15ec",
   "metadata": {},
   "outputs": [
    {
     "name": "stdout",
     "output_type": "stream",
     "text": [
      "Malibu\n"
     ]
    }
   ],
   "source": [
    "## 2. Extract Car Names\n",
    "#Extract car names from the following text:\n",
    "txt = 'LMaasleitbtui'\n",
    "\n",
    "print(txt[1]+txt[2]+txt[5]+txt[7]+txt[9]+txt[11])\n",
    "\n"
   ]
  },
  {
   "cell_type": "code",
   "execution_count": 29,
   "id": "3b0b2dc9",
   "metadata": {},
   "outputs": [
    {
     "name": "stdout",
     "output_type": "stream",
     "text": [
      "Matiz\n"
     ]
    }
   ],
   "source": [
    "## 3. Extract Car Names\n",
    "#Extract car names from the following text:\n",
    "\n",
    "txt = 'MsaatmiazD'\n",
    "print(txt[0]+txt[2]+txt[4]+txt[6]+txt[8])"
   ]
  },
  {
   "cell_type": "code",
   "execution_count": 47,
   "id": "683153f6",
   "metadata": {},
   "outputs": [
    {
     "name": "stdout",
     "output_type": "stream",
     "text": [
      "Residence area: London\n"
     ]
    }
   ],
   "source": [
    "## 4. Extract Residence Area\n",
    "#Extract the residence area from the following text:\n",
    "\n",
    "txt = \"I'am John. I am from London\"\n",
    "part = txt.split(\"from\")\n",
    "\n",
    "residence_area = part[1].strip()\n",
    "print(\"Residence area:\",residence_area)"
   ]
  },
  {
   "cell_type": "code",
   "execution_count": 3,
   "id": "ec8faffe",
   "metadata": {},
   "outputs": [
    {
     "name": "stdout",
     "output_type": "stream",
     "text": [
      "reversed string: olleh\n"
     ]
    }
   ],
   "source": [
    "## 5. Reverse String\n",
    "#Write a Python program that takes a user input string and prints it in reverse order.\n",
    "\n",
    "user_input = input(\"enter a string: \")\n",
    "reverse_string = user_input[::-1]\n",
    "print(\"reversed string:\", reverse_string)\n",
    "\n"
   ]
  },
  {
   "cell_type": "code",
   "execution_count": 33,
   "id": "0c030ed7",
   "metadata": {},
   "outputs": [
    {
     "name": "stdout",
     "output_type": "stream",
     "text": [
      "Number of vowels:  3\n"
     ]
    }
   ],
   "source": [
    "## 6. Count Vowels\n",
    "#Write a Python program that counts the number of vowels in a given string.\n",
    "text = input('Enter a string: ')\n",
    "vowels = 'aueioAUEIO'\n",
    "count = 0\n",
    "\n",
    "for char in text:\n",
    "    if char in vowels:\n",
    "     count += 1\n",
    "\n",
    "print('Number of vowels: ', count)"
   ]
  },
  {
   "cell_type": "code",
   "execution_count": 42,
   "id": "24713503",
   "metadata": {},
   "outputs": [
    {
     "data": {
      "text/plain": [
       "25"
      ]
     },
     "execution_count": 42,
     "metadata": {},
     "output_type": "execute_result"
    }
   ],
   "source": [
    "## 7. Find Maximum Value\n",
    "#Write a Python program that takes a list of numbers as input and prints the maximum value.\n",
    "\n",
    "# Ask the user to enter numbers separated by spaces\n",
    "user_input = int(input(\"Enter first number\"))\n",
    "user_input_2 = int(input(\"Enter second number\"))\n",
    "\n",
    "max_number = max(user_input,user_input_2)\n",
    "max_number\n",
    "\n",
    "\n",
    "\n",
    "\n"
   ]
  },
  {
   "cell_type": "code",
   "execution_count": 53,
   "id": "5b36c4fb",
   "metadata": {},
   "outputs": [
    {
     "name": "stdout",
     "output_type": "stream",
     "text": [
      "aka is a palindrome.\n"
     ]
    }
   ],
   "source": [
    "## 8. Check Palindrome\n",
    "#Write a Python program that checks if a given word is a palindrome (reads the same forward and backward).\n",
    "word = input(\"Enter a word: \")\n",
    "word_lower = word.lower()\n",
    "\n",
    "if word_lower == word_lower[::-1]:\n",
    "    print(f\"{word} is a palindrome.\")\n",
    "else:\n",
    "    print(f\"{word} is not a palindrome.\")\n"
   ]
  },
  {
   "cell_type": "code",
   "execution_count": 58,
   "id": "fe1e4cb9",
   "metadata": {},
   "outputs": [
    {
     "name": "stdout",
     "output_type": "stream",
     "text": [
      "Email domain: gmail.com\n"
     ]
    }
   ],
   "source": [
    "## 9. Extract Email Domain\n",
    "#Write a Python program that extracts and prints the domain from an email address provided by the user.\n",
    "email = input(\"enter your email address: \")\n",
    "if \"@\" in email:\n",
    "    domain = email.split(\"@\")[1]\n",
    "    print(\"Email domain:\", domain)\n",
    "else:\n",
    "    print(\"Invalid email address.\")\n"
   ]
  },
  {
   "cell_type": "code",
   "execution_count": null,
   "id": "523188cb",
   "metadata": {},
   "outputs": [],
   "source": [
    "## 10. Generate Random Password\n",
    "#Write a Python program to generate a random password containing letters, digits, and special characters.\n",
    "#-this topic hasn't been covered yet"
   ]
  }
 ],
 "metadata": {
  "kernelspec": {
   "display_name": "Python 3",
   "language": "python",
   "name": "python3"
  },
  "language_info": {
   "codemirror_mode": {
    "name": "ipython",
    "version": 3
   },
   "file_extension": ".py",
   "mimetype": "text/x-python",
   "name": "python",
   "nbconvert_exporter": "python",
   "pygments_lexer": "ipython3",
   "version": "3.13.3"
  }
 },
 "nbformat": 4,
 "nbformat_minor": 5
}
