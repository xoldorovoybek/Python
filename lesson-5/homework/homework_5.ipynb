{
 "cells": [
  {
   "cell_type": "markdown",
   "id": "e09fac82",
   "metadata": {},
   "source": [
    "Homework:\n",
    "\n",
    "1.\n",
    "def is_leap(year):\n",
    "    \"\"\"\n",
    "    Determines whether a given year is a leap year.\n",
    "\n",
    "    A year is a leap year if:\n",
    "    - It is divisible by 4, and\n",
    "    - It is NOT divisible by 100, unless it is also divisible by 400.\n",
    "\n",
    "    Parameters:\n",
    "    year (int): The year to be checked.\n",
    "\n",
    "    Returns:\n",
    "    bool: True if the year is a leap year, False otherwise.\n",
    "    \"\"\"\n",
    "    if not isinstance(year, int):\n",
    "        raise ValueError(\"Year must be an integer.\")\n",
    "    \n",
    "    return (year % 4 == 0 and year % 100 != 0) or (year % 400 == 0)"
   ]
  },
  {
   "cell_type": "code",
   "execution_count": 7,
   "id": "94cb9230",
   "metadata": {},
   "outputs": [
    {
     "name": "stdout",
     "output_type": "stream",
     "text": [
      "This year is leap year\n"
     ]
    }
   ],
   "source": [
    "year = int(input(\"Enter year: \"))\n",
    "if (year % 4 == 0 and year % 100 != 0) or (year % 400 == 0):\n",
    "    print(\"This year is leap year\")\n",
    "else:\n",
    "    print(\"This year is not leap year\")\n",
    "\n"
   ]
  },
  {
   "cell_type": "markdown",
   "id": "7ce051ec",
   "metadata": {},
   "source": [
    "## 2. Conditional Statements Exercise\n",
    "\n",
    "Given an integer, `n`, perform the following conditional actions:\n",
    "\n",
    "- If `n` is **odd**, print `Weird`\n",
    "- If `n` is **even** and in the inclusive range of **2 to 5**, print `Not Weird`\n",
    "- If `n` is **even** and in the inclusive range of **6 to 20**, print `Weird`\n",
    "- If `n` is **even** and **greater than 20**, print `Not Weird`\n",
    "\n",
    "## Input Format\n",
    "A single line containing a positive integer, `n`.\n",
    "\n",
    "\n",
    "## Constraints\n",
    "- `1 <= n <= 100`\n",
    "\n",
    "## Output Format\n",
    "Print `Weird` if the number is weird. Otherwise, print `Not Weird`.\n",
    "\n",
    "## Sample Input 0\n",
    "```\n",
    "3\n",
    "```\n",
    "\n",
    "## Sample Output 0\n",
    "```\n",
    "Weird\n",
    "```"
   ]
  },
  {
   "cell_type": "code",
   "execution_count": 2,
   "id": "5fab4930",
   "metadata": {},
   "outputs": [
    {
     "name": "stdout",
     "output_type": "stream",
     "text": [
      "this number is not weird.\n"
     ]
    }
   ],
   "source": [
    "n = int(input(\"Enter an integer\"))\n",
    "if n<=1 and n>100:\n",
    "    print(f\"Enter an integer in the range of 1 to 100\")\n",
    "else:\n",
    "    if n% 2 !=0:\n",
    "        print('this number is weird.')\n",
    "    elif 2 <(n)<5:\n",
    "        print('this number is not weird.')\n",
    "    elif 6 <=(n)<= 20:\n",
    "        print('this number is weird.')\n",
    "    else:\n",
    "        print('this number is not weird.')"
   ]
  },
  {
   "cell_type": "markdown",
   "id": "da3d37f9",
   "metadata": {},
   "source": [
    "3. Given two integer numbers a and b. Find even numbers between this numbers. a and b are inclusive. Don't use loop. \n",
    "\n",
    "Give two solutions.\n",
    "\n",
    "Solution 1 with if-else statement.\n",
    "\n",
    "Solution 2 without if-else statement."
   ]
  },
  {
   "cell_type": "code",
   "execution_count": 22,
   "id": "83a42f88",
   "metadata": {},
   "outputs": [
    {
     "name": "stdout",
     "output_type": "stream",
     "text": [
      "Bu son juft va oraliqda.\n"
     ]
    }
   ],
   "source": [
    "a = int(input(\"Birinchi sonni kiriting(a): \"))\n",
    "b = int(input(\"Ikkinchi sonni kiriting(b): \"))\n",
    "n = int(input('Biror sonni kiriting(n): '))\n",
    "\n",
    "if a > b:\n",
    "    print(\"Xatolik: a soni b dan katta bo'lishi mumkin emas.\")\n",
    "else:\n",
    "    if a <= n <= b and n % 2 == 0:\n",
    "        print(\"Bu son juft va oraliqda.\")\n",
    "    else:\n",
    "        print(\"Bu son juft emas yoki oraliqqa kirmaydi.\")\n"
   ]
  },
  {
   "cell_type": "code",
   "execution_count": 23,
   "id": "4eb7ed45",
   "metadata": {},
   "outputs": [
    {
     "name": "stdout",
     "output_type": "stream",
     "text": [
      "Juft sonlar: [6, 8, 10, 12, 14, 16, 18, 20, 22, 24, 26, 28, 30]\n"
     ]
    }
   ],
   "source": [
    "a = int(input(\"a ni kiriting: \"))\n",
    "b = int(input(\"b ni kiriting: \"))\n",
    "\n",
    "start = a + (a % 2) \n",
    "end = b + 1\n",
    "\n",
    "even_numbers = list(range(start, end, 2)) * (a <= b)\n",
    "\n",
    "print(\"Juft sonlar:\", even_numbers)\n"
   ]
  }
 ],
 "metadata": {
  "kernelspec": {
   "display_name": "Python 3",
   "language": "python",
   "name": "python3"
  },
  "language_info": {
   "codemirror_mode": {
    "name": "ipython",
    "version": 3
   },
   "file_extension": ".py",
   "mimetype": "text/x-python",
   "name": "python",
   "nbconvert_exporter": "python",
   "pygments_lexer": "ipython3",
   "version": "3.13.3"
  }
 },
 "nbformat": 4,
 "nbformat_minor": 5
}
