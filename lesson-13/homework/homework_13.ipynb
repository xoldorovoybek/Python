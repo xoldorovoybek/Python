{
 "cells": [
  {
   "cell_type": "markdown",
   "id": "41cb07da",
   "metadata": {},
   "source": [
    "Age Calculator: Ask the user to enter their birthdate. Calculate and print their age in years, months, and days."
   ]
  },
  {
   "cell_type": "code",
   "execution_count": 2,
   "id": "501040fd",
   "metadata": {},
   "outputs": [],
   "source": [
    "import datetime\n"
   ]
  },
  {
   "cell_type": "code",
   "execution_count": 1,
   "id": "f662e298",
   "metadata": {},
   "outputs": [
    {
     "name": "stdout",
     "output_type": "stream",
     "text": [
      "Yosh: 30 days, 0:00:00\n"
     ]
    }
   ],
   "source": [
    "from datetime import datetime, date\n",
    "\n",
    "\n",
    "birth_input = input(\"Tug`ilgan sanangizni kiriting (YYYY-MM-DD): \")\n",
    "birth_day = datetime.strptime(birth_input, \"%Y-%m-%d\").date()\n",
    "today_d = date.today()\n",
    "date_delta = today_d - birth_day\n",
    "years = date_delta // 365\n",
    "print(\"Yosh:\", years)\n",
    "\n",
    "\n"
   ]
  },
  {
   "cell_type": "markdown",
   "id": "7297f623",
   "metadata": {},
   "source": [
    "Days Until Next Birthday: Similar to the first exercise, but this time, calculate and print the number of days remaining until the user's next birthday."
   ]
  },
  {
   "cell_type": "code",
   "execution_count": 2,
   "id": "256dea80",
   "metadata": {},
   "outputs": [
    {
     "name": "stdout",
     "output_type": "stream",
     "text": [
      "8 days, 0:00:00\n"
     ]
    }
   ],
   "source": [
    "from datetime import datetime, date\n",
    "birth_input = input(\"Tug`ilgan sanangizni kiriting (YYYY-MM-DD): \")\n",
    "birth_day = datetime.strptime(birth_input, \"%Y-%m-%d\").date()\n",
    "today = date.today()\n",
    "next_year_birthday = birth_day.replace(year=today.year+1)\n",
    "if (next_year_birthday - today).days> 365:\n",
    "    next_year_birthday1 = birth_day.replace(year=today.year)\n",
    "    remain_day_birth = next_year_birthday1 - today\n",
    "    print(remain_day_birth)\n",
    "else:\n",
    "    print((next_year_birthday - today).days)\n",
    "\n",
    "\n"
   ]
  },
  {
   "cell_type": "markdown",
   "id": "65dc6041",
   "metadata": {},
   "source": [
    "Meeting Scheduler: Ask the user to enter the current date and time, as well as the duration of a meeting in hours and minutes. Calculate and print the date and time when the meeting will end."
   ]
  },
  {
   "cell_type": "code",
   "execution_count": 30,
   "id": "e0cc9029",
   "metadata": {},
   "outputs": [
    {
     "name": "stdout",
     "output_type": "stream",
     "text": [
      "Uchrashuv tugash vaqti: 2025-07-14 00:03\n"
     ]
    }
   ],
   "source": [
    "from datetime import datetime, timedelta\n",
    "current_input = input(\"Hozirgi sanani kiriting (YYYY-MM-DD HH:MM):)\") \n",
    "current_dt = datetime.strptime(current_input, \"%Y-%m-%d %H:%M\")\n",
    "hours = int(input(\"Uchrashuv davomiyligi (soat):\"))\n",
    "minutes = int(input(\"Uchrashuv davomiyligi (minut):\"))\n",
    "meetind_durtn = timedelta(hours = hours, minutes = minutes)\n",
    "meeting_end = current_dt + meetind_durtn\n",
    "print(\"Uchrashuv tugash vaqti:\", meeting_end.strftime(\"%Y-%m-%d %H:%M\"))\n"
   ]
  },
  {
   "cell_type": "markdown",
   "id": "2628c099",
   "metadata": {},
   "source": [
    "Timezone Converter: Create a program that allows the user to enter a date and time along with their current timezone, and then convert and print the date and time in another timezone of their choice."
   ]
  },
  {
   "cell_type": "code",
   "execution_count": 31,
   "id": "c008531d",
   "metadata": {},
   "outputs": [
    {
     "name": "stdout",
     "output_type": "stream",
     "text": [
      "Asia/Tashkent bo‘yicha: 2025-07-13 22:26\n",
      "Europe/Paris bo‘yicha: 2025-07-13 19:26\n"
     ]
    }
   ],
   "source": [
    "from datetime import datetime\n",
    "import pytz\n",
    "\n",
    "# Foydalanuvchidan sana-vaqtni va timezoneni so‘rash\n",
    "dt_input = input(\"Sana-vaqtni kiriting (YYYY-MM-DD HH:MM): \")\n",
    "current_tz_name = input(\"Hozirgi timezone nomi (masalan, Asia/Tashkent): \")\n",
    "target_tz_name = input(\"Qaysi timezone-ga o‘tkazmoqchisiz? (masalan, Europe/London): \")\n",
    "\n",
    "# Foydalanuvchi kiritgan sana-vaqtni datetime-ga aylantirish\n",
    "naive_dt = datetime.strptime(dt_input, \"%Y-%m-%d %H:%M\")\n",
    "\n",
    "# Timezone obyektlarini olish\n",
    "current_tz = pytz.timezone(current_tz_name)\n",
    "target_tz = pytz.timezone(target_tz_name)\n",
    "\n",
    "# Naive datetime-ni foydalanuvchi timezone-ga joylash\n",
    "local_dt = current_tz.localize(naive_dt)\n",
    "\n",
    "# Target timezone-ga convert qilish\n",
    "converted_dt = local_dt.astimezone(target_tz)\n",
    "\n",
    "print(f\"{current_tz_name} bo‘yicha: {local_dt.strftime('%Y-%m-%d %H:%M')}\")\n",
    "print(f\"{target_tz_name} bo‘yicha: {converted_dt.strftime('%Y-%m-%d %H:%M')}\")\n"
   ]
  },
  {
   "cell_type": "markdown",
   "id": "4f856fb3",
   "metadata": {},
   "source": [
    "Countdown Timer: Implement a countdown timer. Ask the user to input a future date and time, and then continuously print the time remaining until that point in regular intervals (e.g., every second)."
   ]
  },
  {
   "cell_type": "code",
   "execution_count": null,
   "id": "accfe552",
   "metadata": {},
   "outputs": [],
   "source": [
    "from datetime import datetime\n",
    "import time\n",
    "\n",
    "# Foydalanuvchidan kelajakdagi sana-vaqtni olish\n",
    "future_input = input(\"Kelajakdagi sana-vaqtni kiriting (YYYY-MM-DD HH:MM:SS): \")\n",
    "future_dt = datetime.strptime(future_input, \"%Y-%m-%d %H:%M:%S\")\n",
    "\n",
    "while True:\n",
    "    now = datetime.now()\n",
    "    remaining = future_dt - now\n",
    "\n",
    "    if remaining.total_seconds() <= 0:\n",
    "        print(\"Vaqt tugadi!\")\n",
    "        break\n",
    "\n",
    "    days = remaining.days\n",
    "    hours, remainder = divmod(remaining.seconds, 3600)\n",
    "    minutes, seconds = divmod(remainder, 60)\n",
    "\n",
    "    print(f\"Qolgan vaqt: {days} kun, {hours} soat, {minutes} daqiqa, {seconds} sekund\", end='\\r')\n",
    "\n",
    "    time.sleep(1)\n"
   ]
  },
  {
   "cell_type": "markdown",
   "id": "421048e5",
   "metadata": {},
   "source": [
    "Email Validator: Write a program that validates email addresses. Ask the user to input an email address, and check if it follows a valid email format."
   ]
  },
  {
   "cell_type": "code",
   "execution_count": null,
   "id": "43c1395a",
   "metadata": {},
   "outputs": [],
   "source": [
    "import re\n",
    "\n",
    "# Foydalanuvchidan email so‘rash\n",
    "email = input(\"Email manzilini kiriting: \")\n",
    "\n",
    "# Oddiy regex pattern\n",
    "pattern = r'^[\\w\\.-]+@[\\w\\.-]+\\.\\w{2,}$'\n",
    "\n",
    "# Tekshirish\n",
    "if re.match(pattern, email):\n",
    "    print(\"Email manzili to‘g‘ri formatda.\")\n",
    "else:\n",
    "    print(\"Email manzili noto‘g‘ri formatda.\")\n"
   ]
  },
  {
   "cell_type": "markdown",
   "id": "7c07092f",
   "metadata": {},
   "source": [
    "Phone Number Formatter: Create a program that takes a phone number as input and formats it according to a standard format. For example, convert \"1234567890\" to \"(123) 456-7890\"."
   ]
  },
  {
   "cell_type": "code",
   "execution_count": null,
   "id": "40fd2e46",
   "metadata": {},
   "outputs": [],
   "source": [
    "def format_phone_number(number):\n",
    "    # Remove any non-digit characters\n",
    "    digits = ''.join(filter(str.isdigit, number))\n",
    "    \n",
    "    if len(digits) != 10:\n",
    "        return \"Invalid input: Phone number must have exactly 10 digits.\"\n",
    "\n",
    "    area_code = digits[:3]\n",
    "    central_office = digits[3:6]\n",
    "    line_number = digits[6:]\n",
    "\n",
    "    formatted_number = f\"({area_code}) {central_office}-{line_number}\"\n",
    "    return formatted_number\n",
    "\n",
    "# Example usage:\n",
    "phone_input = input(\"Enter a 10-digit phone number: \")\n",
    "print(\"Formatted number:\", format_phone_number(phone_input))\n"
   ]
  },
  {
   "cell_type": "markdown",
   "id": "f9f05781",
   "metadata": {},
   "source": [
    "Password Strength Checker: Implement a password strength checker. Ask the user to input a password and check if it meets certain criteria (e.g., minimum length, contains at least one uppercase letter, one lowercase letter, and one digit).\n"
   ]
  },
  {
   "cell_type": "code",
   "execution_count": 4,
   "id": "b8d51fef",
   "metadata": {},
   "outputs": [
    {
     "name": "stdout",
     "output_type": "stream",
     "text": [
      "Strong: Password meets all requirements.\n"
     ]
    }
   ],
   "source": [
    "import re\n",
    "\n",
    "def check_password_strength(password):\n",
    "    # Minimum length check\n",
    "    if len(password) < 8:\n",
    "        return \"Weak: Password must be at least 8 characters long.\"\n",
    "    \n",
    "    # Uppercase letter check\n",
    "    if not re.search(r\"[A-Z]\", password):\n",
    "        return \"Weak: Password must contain at least one uppercase letter.\"\n",
    "    \n",
    "    # Lowercase letter check\n",
    "    if not re.search(r\"[a-z]\", password):\n",
    "        return \"Weak: Password must contain at least one lowercase letter.\"\n",
    "    \n",
    "    # Digit check\n",
    "    if not re.search(r\"[0-9]\", password):\n",
    "        return \"Weak: Password must contain at least one digit.\"\n",
    "    \n",
    "    return \"Strong: Password meets all requirements.\"\n",
    "\n",
    "# Example usage:\n",
    "password_input = input(\"Enter your password: \")\n",
    "print(check_password_strength(password_input))\n"
   ]
  },
  {
   "cell_type": "markdown",
   "id": "e4573f8b",
   "metadata": {},
   "source": [
    "Word Finder: Develop a program that finds all occurrences of a specific word in a given text. Ask the user to input a word, and then search for and print all occurrences of that word in a sample text.\n"
   ]
  },
  {
   "cell_type": "code",
   "execution_count": null,
   "id": "a3e59d25",
   "metadata": {},
   "outputs": [],
   "source": [
    "import re\n",
    "\n",
    "def find_word_occurrences(text, word):\n",
    "    # Use regex to find all whole word matches (case-insensitive)\n",
    "    pattern = re.compile(rf\"\\b{re.escape(word)}\\b\", re.IGNORECASE)\n",
    "    matches = list(pattern.finditer(text))\n",
    "    \n",
    "    if not matches:\n",
    "        print(f\"The word '{word}' was not found in the text.\")\n",
    "    else:\n",
    "        print(f\"The word '{word}' was found {len(matches)} time(s) at positions:\")\n",
    "        for match in matches:\n",
    "            start = match.start()\n",
    "            end = match.end()\n",
    "            print(f\"Start: {start}, End: {end}, Matched: '{match.group()}'\")\n",
    "\n",
    "# Sample text\n",
    "sample_text = \"\"\"\n",
    "Python is a powerful programming language. Many developers love Python for its readability and simplicity.\n",
    "This Word Finder program can help you find words like Python easily.\n",
    "\"\"\"\n",
    "\n",
    "# Get user input\n",
    "word_input = input(\"Enter the word to find: \")\n",
    "find_word_occurrences(sample_text, word_input)\n"
   ]
  },
  {
   "cell_type": "markdown",
   "id": "7f87711c",
   "metadata": {},
   "source": [
    "Date Extractor: Write a program that extracts dates from a given text. Ask the user to input a text, and then identify and print all the dates present in the text.\n"
   ]
  },
  {
   "cell_type": "code",
   "execution_count": null,
   "id": "d5950969",
   "metadata": {},
   "outputs": [],
   "source": [
    "import re\n",
    "\n",
    "def extract_dates(text):\n",
    "    # Regex pattern for various date formats\n",
    "    date_pattern = re.compile(\n",
    "        r\"\"\"\n",
    "        ( # Start of group\n",
    "            (?:\\d{1,2}[/.-]\\d{1,2}[/.-]\\d{2,4}) |       # e.g. 14/07/2025 or 14-07-2025 or 14.07.2025\n",
    "            (?:\\d{4}[/.-]\\d{1,2}[/.-]\\d{1,2}) |         # e.g. 2025-07-14 or 2025/07/14\n",
    "            (?:                                          # Month name formats\n",
    "                (?:Jan|Feb|Mar|Apr|May|Jun|Jul|Aug|Sep|Oct|Nov|Dec)[a-z]*   # Month name\n",
    "                \\s+\\d{1,2},?\\s+\\d{4}                    # e.g. July 14, 2025\n",
    "            ) |\n",
    "            (?:                                          # Day Month Year format\n",
    "                \\d{1,2}\\s+\n",
    "                (?:Jan|Feb|Mar|Apr|May|Jun|Jul|Aug|Sep|Oct|Nov|Dec)[a-z]*\\s+\n",
    "                \\d{4}\n",
    "            )                                            # e.g. 14 July 2025\n",
    "        )\n",
    "        \"\"\",\n",
    "        re.IGNORECASE | re.VERBOSE\n",
    "    )\n",
    "\n",
    "    matches = date_pattern.findall(text)\n",
    "    if not matches:\n",
    "        print(\"No dates found in the text.\")\n",
    "    else:\n",
    "        print(f\"Found {len(matches)} date(s):\")\n",
    "        for date in matches:\n",
    "            print(f\"- {date.strip()}\")\n",
    "\n",
    "# Get user input\n",
    "user_text = input(\"Enter text to search for dates: \")\n",
    "extract_dates(user_text)\n"
   ]
  }
 ],
 "metadata": {
  "kernelspec": {
   "display_name": "Python 3",
   "language": "python",
   "name": "python3"
  },
  "language_info": {
   "codemirror_mode": {
    "name": "ipython",
    "version": 3
   },
   "file_extension": ".py",
   "mimetype": "text/x-python",
   "name": "python",
   "nbconvert_exporter": "python",
   "pygments_lexer": "ipython3",
   "version": "3.13.3"
  }
 },
 "nbformat": 4,
 "nbformat_minor": 5
}
