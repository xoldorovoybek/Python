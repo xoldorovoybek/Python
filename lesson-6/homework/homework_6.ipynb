{
 "cells": [
  {
   "cell_type": "markdown",
   "id": "989b7bc1",
   "metadata": {},
   "source": [
    "# Homeworks\n",
    "\n",
    "## 1. Modify String with Underscores\n",
    "Given a string `txt`, insert an underscore (`_`) after every third character. If a character is a vowel or already has an underscore after it, shift the underscore placement to the next character. No underscore should be added at the end.\n",
    "\n",
    "### Examples\n",
    "**Input:** `hello`\n",
    "**Output:** `hel_lo`\n",
    "\n",
    "**Input:** `assalom`\n",
    "**Output:** `ass_alom`\n",
    "\n",
    "**Input:** `abcabcabcdeabcdefabcdefg`\n",
    "**Output:** `abc_abc_abcd_abcd_abcdef`\n",
    "\n",
    "---"
   ]
  },
  {
   "cell_type": "markdown",
   "id": "0fbb9e23",
   "metadata": {},
   "source": [
    "## 2. Integer Squares Exercise\n",
    "\n",
    "### Task\n",
    "The provided code stub reads an integer, `n`, from STDIN. For all non-negative integers `i` where `0 <= i < n`, print `i^2`.\n",
    "\n",
    "### Example Input\n",
    "```\n",
    "5\n",
    "```\n",
    "\n",
    "### Example Output\n",
    "```\n",
    "0\n",
    "1\n",
    "4\n",
    "9\n",
    "16\n",
    "```\n",
    "### Input Format\n",
    "The first and only line contains the integer, `n`.\n",
    "\n",
    "### Constraints\n",
    "- `1 <= n <= 20`\n",
    "\n",
    "### Output Format\n",
    "Print `n` lines, one corresponding to each `i^2` where `0 <= i < n`."
   ]
  },
  {
   "cell_type": "code",
   "execution_count": 1,
   "id": "fb469589",
   "metadata": {},
   "outputs": [
    {
     "name": "stdout",
     "output_type": "stream",
     "text": [
      "0\n",
      "1\n",
      "4\n"
     ]
    }
   ],
   "source": [
    "n = int(input())\n",
    "\n",
    "for i in range(n):\n",
    "    if 1 <= n < 20:\n",
    "        print(i ** 2)\n"
   ]
  },
  {
   "cell_type": "markdown",
   "id": "812a0c85",
   "metadata": {},
   "source": [
    "## 3. Loop-Based Exercises\n",
    "\n",
    "### Exercise 1: Print first 10 natural numbers using a while loop"
   ]
  },
  {
   "cell_type": "code",
   "execution_count": 4,
   "id": "fd0c915f",
   "metadata": {},
   "outputs": [
    {
     "name": "stdout",
     "output_type": "stream",
     "text": [
      "1\n",
      "2\n",
      "3\n",
      "4\n",
      "5\n",
      "6\n",
      "7\n",
      "8\n",
      "9\n",
      "10\n"
     ]
    }
   ],
   "source": [
    "i = 1\n",
    "while i <= 10:\n",
    "    print(i)\n",
    "    i+=1\n"
   ]
  },
  {
   "cell_type": "markdown",
   "id": "1e3614c8",
   "metadata": {},
   "source": [
    "### Exercise 2: Print the following pattern\n",
    "```\n",
    "1\n",
    "1 2\n",
    "1 2 3\n",
    "1 2 3 4\n",
    "1 2 3 4 5\n",
    "```"
   ]
  },
  {
   "cell_type": "code",
   "execution_count": 75,
   "id": "b2978b08",
   "metadata": {},
   "outputs": [
    {
     "name": "stdout",
     "output_type": "stream",
     "text": [
      "1 \n",
      "1 2 \n",
      "1 2 3 \n",
      "1 2 3 4 \n",
      "1 2 3 4 5 \n"
     ]
    }
   ],
   "source": [
    "i = 1\n",
    "while i <= 5:\n",
    "    j = 1\n",
    "    while j <= i:\n",
    "        print(j, end= ' ')\n",
    "        j+= 1\n",
    "    print()\n",
    "    i+=1"
   ]
  },
  {
   "cell_type": "markdown",
   "id": "a61e45b1",
   "metadata": {},
   "source": [
    "### Exercise 3: Calculate sum of all numbers from 1 to a given number\n",
    "**Example:**\n",
    "```\n",
    "Enter number 10\n",
    "Sum is: 55\n",
    "```"
   ]
  },
  {
   "cell_type": "code",
   "execution_count": null,
   "id": "e09a8e95",
   "metadata": {},
   "outputs": [
    {
     "name": "stdout",
     "output_type": "stream",
     "text": [
      "Yig'indisi: 55\n"
     ]
    }
   ],
   "source": [
    "\n",
    "\n",
    "n = int(input(\"Natural son kiriting: \"))\n",
    "total = sum(list(range(1, n + 1)))\n",
    "print(\"Yig'indisi:\", total)"
   ]
  },
  {
   "cell_type": "code",
   "execution_count": 52,
   "id": "f68b791b",
   "metadata": {},
   "outputs": [
    {
     "data": {
      "text/plain": [
       "55"
      ]
     },
     "execution_count": 52,
     "metadata": {},
     "output_type": "execute_result"
    }
   ],
   "source": [
    "sum(list(range(1, (int(input('natural son kiriting: '))) +1)))"
   ]
  },
  {
   "cell_type": "markdown",
   "id": "8198c24b",
   "metadata": {},
   "source": [
    "### Exercise 4: Print multiplication table of a given number\n",
    "**Example:**\n",
    "```\n",
    "2\n",
    "4\n",
    "6\n",
    "8\n",
    "10\n",
    "12\n",
    "14\n",
    "16\n",
    "18\n",
    "20\n",
    "```"
   ]
  },
  {
   "cell_type": "code",
   "execution_count": 70,
   "id": "bc953943",
   "metadata": {},
   "outputs": [
    {
     "name": "stdout",
     "output_type": "stream",
     "text": [
      "2\n",
      "4\n",
      "6\n",
      "8\n",
      "10\n",
      "12\n",
      "14\n",
      "16\n",
      "18\n",
      "20\n"
     ]
    }
   ],
   "source": [
    "for i in range(1,(int(input('natural son kiriting: '))) +1):\n",
    "    print(i*2)\n",
    "\n",
    "    "
   ]
  },
  {
   "cell_type": "markdown",
   "id": "282f52b1",
   "metadata": {},
   "source": [
    "### Exercise 5: Display numbers from a list using a loop\n",
    "**Given:**\n",
    "```python\n",
    "numbers = [12, 75, 150, 180, 145, 525, 50]\n",
    "```\n",
    "**Expected Output:**\n",
    "```\n",
    "75\n",
    "150\n",
    "145\n",
    "```"
   ]
  },
  {
   "cell_type": "code",
   "execution_count": 73,
   "id": "3088ee77",
   "metadata": {},
   "outputs": [
    {
     "name": "stdout",
     "output_type": "stream",
     "text": [
      "12\n",
      "75\n",
      "150\n",
      "180\n",
      "145\n",
      "525\n",
      "50\n"
     ]
    }
   ],
   "source": [
    "numbers = [12, 75, 150, 180, 145, 525, 50]\n",
    "for i in numbers:\n",
    "    print(i)"
   ]
  },
  {
   "cell_type": "markdown",
   "id": "3885b1f6",
   "metadata": {},
   "source": [
    "### Exercise 6: Count the total number of digits in a number\n",
    "**Example:**\n",
    "```\n",
    "75869\n",
    "Output: 5\n",
    "```"
   ]
  },
  {
   "cell_type": "code",
   "execution_count": 89,
   "id": "3d9a2b87",
   "metadata": {},
   "outputs": [
    {
     "name": "stdout",
     "output_type": "stream",
     "text": [
      "Count(75869 : 5)\n"
     ]
    }
   ],
   "source": [
    "a = 75869\n",
    "con = 0\n",
    "for i in str(a):\n",
    "    con += 1\n",
    "print(f\"Count({a} : {con})\")"
   ]
  },
  {
   "cell_type": "markdown",
   "id": "3c0bf9b5",
   "metadata": {},
   "source": [
    "### Exercise 7: Print reverse number pattern\n",
    "```\n",
    "5 4 3 2 1\n",
    "4 3 2 1\n",
    "3 2 1\n",
    "2 1\n",
    "1\n",
    "```"
   ]
  },
  {
   "cell_type": "code",
   "execution_count": 107,
   "id": "6446d08e",
   "metadata": {},
   "outputs": [
    {
     "name": "stdout",
     "output_type": "stream",
     "text": [
      "1 2 3 4 5 \n",
      "1 2 3 4 \n",
      "1 2 3 \n",
      "1 2 \n",
      "1 \n"
     ]
    }
   ],
   "source": [
    "i = 5\n",
    "while i >= 1:\n",
    "    j = 1\n",
    "    while j <= i:\n",
    "        print(j, end= ' ')\n",
    "        j+=1 \n",
    "    print()\n",
    "    i-=1"
   ]
  },
  {
   "cell_type": "markdown",
   "id": "67ff9836",
   "metadata": {},
   "source": [
    "### Exercise 8: Print list in reverse order using a loop\n",
    "**Given:**\n",
    "```python\n",
    "list1 = [10, 20, 30, 40, 50]\n",
    "```\n",
    "**Expected Output:**\n",
    "```\n",
    "50\n",
    "40\n",
    "30\n",
    "20\n",
    "10"
   ]
  },
  {
   "cell_type": "code",
   "execution_count": 114,
   "id": "22de3b10",
   "metadata": {},
   "outputs": [
    {
     "name": "stdout",
     "output_type": "stream",
     "text": [
      "50\n",
      "40\n",
      "30\n",
      "20\n",
      "10\n"
     ]
    }
   ],
   "source": [
    "list1 = [10, 20, 30, 40, 50]\n",
    "i = len(list1)-1\n",
    "while i >= 0:\n",
    "    print(list1[i])\n",
    "    i-=1\n",
    "\n"
   ]
  },
  {
   "cell_type": "markdown",
   "id": "dfb5a9c9",
   "metadata": {},
   "source": [
    "### Exercise 9: Display numbers from -10 to -1 using a for loop\n",
    "```\n",
    "-10\n",
    "-9\n",
    "-8\n",
    "-7\n",
    "-6\n",
    "-5\n",
    "-4\n",
    "-3\n",
    "-2\n",
    "-1\n",
    "```"
   ]
  },
  {
   "cell_type": "code",
   "execution_count": 121,
   "id": "718085d4",
   "metadata": {},
   "outputs": [
    {
     "name": "stdout",
     "output_type": "stream",
     "text": [
      "-10\n",
      "-9\n",
      "-8\n",
      "-7\n",
      "-6\n",
      "-5\n",
      "-4\n",
      "-3\n",
      "-2\n",
      "-1\n"
     ]
    }
   ],
   "source": [
    "for i in range(-10,0):\n",
    "    print(i)"
   ]
  },
  {
   "cell_type": "markdown",
   "id": "6ac285b5",
   "metadata": {},
   "source": [
    "### Exercise 10: Display message “Done” after successful loop execution\n",
    "**Example:**\n",
    "```python\n",
    "0\n",
    "1\n",
    "2\n",
    "3\n",
    "4\n",
    "Done!\n",
    "```"
   ]
  },
  {
   "cell_type": "code",
   "execution_count": 126,
   "id": "7aa4584c",
   "metadata": {},
   "outputs": [
    {
     "name": "stdout",
     "output_type": "stream",
     "text": [
      "0\n",
      "1\n",
      "2\n",
      "3\n",
      "4\n",
      "Done!\n"
     ]
    }
   ],
   "source": [
    "i = 0\n",
    "while i <= 4:\n",
    "    print(i)\n",
    "    i+=1\n",
    "print('Done!')"
   ]
  },
  {
   "cell_type": "markdown",
   "id": "dec4f397",
   "metadata": {},
   "source": [
    "### Exercise 11: Print all prime numbers within a range\n",
    "**Example:**\n",
    "```\n",
    "Prime numbers between 25 and 50:\n",
    "29\n",
    "31\n",
    "37\n",
    "41\n",
    "43\n",
    "47\n",
    "```"
   ]
  },
  {
   "cell_type": "code",
   "execution_count": null,
   "id": "916bf935",
   "metadata": {},
   "outputs": [
    {
     "name": "stdout",
     "output_type": "stream",
     "text": [
      "27\n",
      "29\n",
      "31\n",
      "33\n",
      "35\n",
      "37\n",
      "39\n",
      "41\n",
      "43\n",
      "45\n",
      "47\n",
      "49\n"
     ]
    }
   ],
   "source": [
    "\n",
    "for i in range(25+1,50):\n",
    "    if i **0.5 != :\n",
    "        print(i)"
   ]
  },
  {
   "cell_type": "markdown",
   "id": "3a8b7c3d",
   "metadata": {},
   "source": [
    "### Exercise 13: Find the factorial of a given number\n",
    "**Example:**\n",
    "```\n",
    "5! = 120"
   ]
  },
  {
   "cell_type": "code",
   "execution_count": 2,
   "id": "0bfa51ca",
   "metadata": {},
   "outputs": [
    {
     "name": "stdout",
     "output_type": "stream",
     "text": [
      "120\n"
     ]
    }
   ],
   "source": [
    "i = 1\n",
    "factorial = 1\n",
    "n = int(input('N sonini kiriting: '))\n",
    "while i<=n:\n",
    "    factorial=factorial*i\n",
    "    i = i + 1\n",
    "print(factorial)"
   ]
  },
  {
   "cell_type": "code",
   "execution_count": null,
   "id": "c826a8b6",
   "metadata": {},
   "outputs": [],
   "source": []
  }
 ],
 "metadata": {
  "kernelspec": {
   "display_name": "Python 3",
   "language": "python",
   "name": "python3"
  },
  "language_info": {
   "codemirror_mode": {
    "name": "ipython",
    "version": 3
   },
   "file_extension": ".py",
   "mimetype": "text/x-python",
   "name": "python",
   "nbconvert_exporter": "python",
   "pygments_lexer": "ipython3",
   "version": "3.13.3"
  }
 },
 "nbformat": 4,
 "nbformat_minor": 5
}
