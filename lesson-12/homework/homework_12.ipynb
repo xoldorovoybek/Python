{
 "cells": [
  {
   "cell_type": "markdown",
   "id": "e9b312cd",
   "metadata": {},
   "source": [
    "Homework:\n",
    "\n",
    "Exercise 1: Threaded Prime Number Checker\n",
    "\n",
    "Write a Python program that checks whether a given range of numbers contains prime numbers. Divide the range among multiple threads to parallelize the prime checking process. Each thread should be responsible for checking a subset of the range, and the main program should print the list of prime numbers found."
   ]
  },
  {
   "cell_type": "code",
   "execution_count": 1,
   "id": "98a07cb4",
   "metadata": {},
   "outputs": [
    {
     "name": "stdout",
     "output_type": "stream",
     "text": [
      "Prime numbers between 1 and 100:\n",
      "[2, 3, 5, 7, 11, 13, 17, 19, 23, 29, 31, 37, 41, 43, 47, 53, 59, 61, 67, 71, 73, 79, 83, 89, 97]\n"
     ]
    }
   ],
   "source": [
    "import threading\n",
    "\n",
    "# Tub sonni tekshiruvchi funksiya\n",
    "def is_prime(n):\n",
    "    if n <= 1:\n",
    "        return False\n",
    "    if n <= 3:\n",
    "        return True\n",
    "    if n % 2 == 0 or n % 3 == 0:\n",
    "        return False\n",
    "    i = 5\n",
    "    while i * i <= n:\n",
    "        if n % i == 0 or n % (i + 2) == 0:\n",
    "            return False\n",
    "        i += 6\n",
    "    return True\n",
    "\n",
    "# Har bir ip bajaradigan funksiya\n",
    "def check_primes_in_range(start, end, result):\n",
    "    for num in range(start, end):\n",
    "        if is_prime(num):\n",
    "            result.append(num)\n",
    "\n",
    "# Asosiy qism\n",
    "if __name__ == \"__main__\":\n",
    "    range_start = 1\n",
    "    range_end = 100\n",
    "    num_threads = 4\n",
    "\n",
    "    threads = []\n",
    "    results = []\n",
    "\n",
    "    # Umumiy natijalarni har bir ip uchun alohida saqlash\n",
    "    thread_results = [[] for _ in range(num_threads)]\n",
    "\n",
    "    # Diapazonni bo‘lish\n",
    "    step = (range_end - range_start) // num_threads\n",
    "\n",
    "    for i in range(num_threads):\n",
    "        start = range_start + i * step\n",
    "        # Oxirgi ip oxirigacha oladi\n",
    "        end = range_start + (i + 1) * step if i != num_threads - 1 else range_end\n",
    "        t = threading.Thread(target=check_primes_in_range, args=(start, end, thread_results[i]))\n",
    "        threads.append(t)\n",
    "        t.start()\n",
    "\n",
    "    # Barcha iplarni kutib turish\n",
    "    for t in threads:\n",
    "        t.join()\n",
    "\n",
    "    # Natijalarni birlashtirish\n",
    "    for sublist in thread_results:\n",
    "        results.extend(sublist)\n",
    "\n",
    "    # Tartiblab chiqarish\n",
    "    results.sort()\n",
    "    print(f\"Prime numbers between {range_start} and {range_end}:\")\n",
    "    print(results)\n"
   ]
  },
  {
   "cell_type": "markdown",
   "id": "dd10460e",
   "metadata": {},
   "source": [
    "Exercise 2: Threaded File Processing\n",
    "\n",
    "Write a program that reads a large text file containing lines of text. Implement a threaded solution to count the occurrence of each word in the file. Each thread should process a portion of the file, and the main program should display a summary of word occurrences across all threads."
   ]
  },
  {
   "cell_type": "code",
   "execution_count": null,
   "id": "1f51835d",
   "metadata": {},
   "outputs": [],
   "source": [
    "import threading\n",
    "from collections import Counter\n",
    "\n",
    "# Har bir ip bajaradigan funksiya\n",
    "def count_words(lines, result_list, index):\n",
    "    word_count = Counter()\n",
    "    for line in lines:\n",
    "        words = line.strip().split()\n",
    "        word_count.update(words)\n",
    "    result_list[index] = word_count\n",
    "\n",
    "if __name__ == \"__main__\":\n",
    "    filename = \"large_text_file.txt\"  # O'z faylingiz nomi bilan almashtiring\n",
    "    num_threads = 4\n",
    "\n",
    "    # Faylni o'qib olish\n",
    "    with open(filename, \"r\", encoding=\"utf-8\") as f:\n",
    "        lines = f.readlines()\n",
    "\n",
    "    total_lines = len(lines)\n",
    "    chunk_size = total_lines // num_threads\n",
    "\n",
    "    threads = []\n",
    "    results = [None] * num_threads\n",
    "\n",
    "    # Har bir ipga fayl bo'laklarini berish\n",
    "    for i in range(num_threads):\n",
    "        start = i * chunk_size\n",
    "        end = (i + 1) * chunk_size if i != num_threads - 1 else total_lines\n",
    "        t = threading.Thread(target=count_words, args=(lines[start:end], results, i))\n",
    "        threads.append(t)\n",
    "        t.start()\n",
    "\n",
    "    # Barcha iplarni tugashini kutish\n",
    "    for t in threads:\n",
    "        t.join()\n",
    "\n",
    "    # Natijalarni birlashtirish\n",
    "    final_counts = Counter()\n",
    "    for wc in results:\n",
    "        final_counts.update(wc)\n",
    "\n",
    "    # Natijani chiqarish\n",
    "    print(\"Word count summary:\")\n",
    "    for word, count in final_counts.most_common():\n",
    "        print(f\"{word}: {count}\")\n"
   ]
  }
 ],
 "metadata": {
  "kernelspec": {
   "display_name": "Python 3",
   "language": "python",
   "name": "python3"
  },
  "language_info": {
   "codemirror_mode": {
    "name": "ipython",
    "version": 3
   },
   "file_extension": ".py",
   "mimetype": "text/x-python",
   "name": "python",
   "nbconvert_exporter": "python",
   "pygments_lexer": "ipython3",
   "version": "3.13.3"
  }
 },
 "nbformat": 4,
 "nbformat_minor": 5
}
