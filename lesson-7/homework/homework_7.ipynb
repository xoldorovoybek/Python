{
 "cells": [
  {
   "cell_type": "markdown",
   "id": "907e6319",
   "metadata": {},
   "source": [
    "# Homework\n",
    "\n",
    "## Task\n",
    "Learn about `map` and `filter` functions, and be prepared to explain them in class. Provide examples using these functions with `lambda` expressions.\n",
    "\n",
    "---\n",
    "\n",
    "# Problems\n",
    "\n",
    "## 1. is_prime(n) funksiyasi\n",
    "`is_prime(n)` funksiyasini hosil qiling (`n > 0`). Agar `n` soni tub bo'lsa `True`, aks holda `False` qiymat qaytarsin.\n",
    "\n",
    "### Misollar:\n",
    "- **Kiritish:**  \n",
    "  4  \n",
    "  **Natija:**  \n",
    "  False  \n",
    "  _(Izoh: 4 soni tub emas, chunki u 2 ga bo'linadi.)_\n",
    "\n",
    "- **Kiritish:**  \n",
    "  7  \n",
    "  **Natija:**  \n",
    "  True  \n",
    "  _(Izoh: 7 soni faqat 1 va o'ziga bo'linadi, ya'ni tub son.)_\n",
    "\n",
    "---"
   ]
  },
  {
   "cell_type": "code",
   "execution_count": 8,
   "id": "408aca5f",
   "metadata": {},
   "outputs": [
    {
     "name": "stdout",
     "output_type": "stream",
     "text": [
      "False\n"
     ]
    }
   ],
   "source": [
    "\n",
    "def tub(n):\n",
    "    if n<=1:\n",
    "        return False\n",
    "    if n==2:\n",
    "        return True\n",
    "    if n%2==0:\n",
    "        return False\n",
    "    for i in range(3, int(n**0.5)+1, 2):\n",
    "        if n%i == 0:\n",
    "            return False\n",
    "    return True     \n",
    "number = int(input('Enter your namber: '))\n",
    "if tub(number):\n",
    "    print('True')\n",
    "else:\n",
    "    print('False')\n",
    "\n",
    "    \n"
   ]
  },
  {
   "cell_type": "markdown",
   "id": "9e7a3d83",
   "metadata": {},
   "source": [
    "## 2. digit_sum(k) funksiyasi\n",
    "`digit_sum(k)` funksiyasini yozing, u `k` sonining raqamlari yig'indisini hisoblaydi.\n",
    "\n",
    "### Misollar:\n",
    "- **Kiritish:**  \n",
    "  24  \n",
    "  **Natija:**  \n",
    "  6  \n",
    "  _(Izoh: 24 sonining raqamlari yig'indisi: 2 + 4 = 6.)_\n",
    "\n",
    "- **Kiritish:**  \n",
    "  502  \n",
    "  **Natija:**  \n",
    "  7  \n",
    "  _(Izoh: 502 sonining raqamlari yig'indisi: 5 + 0 + 2 = 7.)_"
   ]
  },
  {
   "cell_type": "code",
   "execution_count": 1,
   "id": "b858e54e",
   "metadata": {},
   "outputs": [
    {
     "name": "stdout",
     "output_type": "stream",
     "text": [
      "11\n"
     ]
    }
   ],
   "source": [
    "number = input('Enter your number: ')\n",
    "\n",
    "def sum_of_digits(num_str):\n",
    "    total = 0\n",
    "    for digit in num_str:\n",
    "        total += int(digit)\n",
    "    print(total)\n",
    "\n",
    "sum_of_digits(number)\n",
    "\n",
    "\n"
   ]
  },
  {
   "cell_type": "markdown",
   "id": "13a5854b",
   "metadata": {},
   "source": [
    "## 3. Ikki sonning darajalari\n",
    "Berilgan `N` sonidan oshmaydigan barcha 2 ning darajalarini (ya'ni, `2**k` shaklidagi sonlarni) chop etuvchi funksiyani yozing.\n",
    "\n",
    "### Misol:\n",
    "- **Kiritish:**  \n",
    "  10  \n",
    "  **Natija:**  \n",
    "  2 4 8  \n",
    "  _(Izoh: 10 dan kichik yoki teng bo'lgan 2 ning darajalari: 2, 4, 8.)_"
   ]
  },
  {
   "cell_type": "code",
   "execution_count": 5,
   "id": "708db238",
   "metadata": {},
   "outputs": [
    {
     "name": "stdout",
     "output_type": "stream",
     "text": [
      "2 4 8 "
     ]
    }
   ],
   "source": [
    "def powers_of_two(N):\n",
    "    power = 1\n",
    "    while power * 2 <=N:\n",
    "        power *= 2\n",
    "        print(power, end=' ')\n",
    "\n",
    "N= int(input('n sonini kiriting: '))\n",
    "powers_of_two(N)"
   ]
  },
  {
   "cell_type": "code",
   "execution_count": 8,
   "id": "e786efd8",
   "metadata": {},
   "outputs": [
    {
     "name": "stdout",
     "output_type": "stream",
     "text": [
      "2 4 8 "
     ]
    }
   ],
   "source": [
    "def power_of_2(n):\n",
    "    power=1\n",
    "    while power*2<=n:\n",
    "        power*= 2\n",
    "        print(power, end=' ')\n",
    "\n",
    "n = int(input('n sonini kiriting: '))\n",
    "power_of_2(n)\n"
   ]
  }
 ],
 "metadata": {
  "kernelspec": {
   "display_name": "Python 3",
   "language": "python",
   "name": "python3"
  },
  "language_info": {
   "codemirror_mode": {
    "name": "ipython",
    "version": 3
   },
   "file_extension": ".py",
   "mimetype": "text/x-python",
   "name": "python",
   "nbconvert_exporter": "python",
   "pygments_lexer": "ipython3",
   "version": "3.13.3"
  }
 },
 "nbformat": 4,
 "nbformat_minor": 5
}
