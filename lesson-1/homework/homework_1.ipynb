{
 "cells": [
  {
   "cell_type": "markdown",
   "id": "22eca279",
   "metadata": {},
   "source": [
    "Homework:\n",
    "1. Given a side of square. Find its perimeter and area.\n",
    "2. Given diameter of circle. Find its length.\n",
    "3. Given two numbers a and b. Find their mean.\n",
    "4. Given two numbers a and b. Find their sum, product and square of each number."
   ]
  },
  {
   "cell_type": "code",
   "execution_count": 8,
   "id": "5af79658",
   "metadata": {},
   "outputs": [
    {
     "name": "stdout",
     "output_type": "stream",
     "text": [
      "12.0\n",
      "perimetr of square :12.0\n",
      "9.0\n",
      "area of square:9.0\n"
     ]
    }
   ],
   "source": [
    "#1. Given a side of square. Find its perimeter and area.\n",
    "\n",
    "side = 3\n",
    "side = float(side)\n",
    "perimetr = side *4\n",
    "print(perimetr)\n",
    "print(f\"perimetr of square :{perimetr}\")\n",
    "\n",
    "area = side **2\n",
    "print(area)\n",
    "print(f\"area of square:{area}\")\n",
    "\n"
   ]
  },
  {
   "cell_type": "code",
   "execution_count": 10,
   "id": "afb83d80",
   "metadata": {},
   "outputs": [
    {
     "name": "stdout",
     "output_type": "stream",
     "text": [
      "diametr of circle:8\n",
      "lenght of crcle:25.12\n"
     ]
    }
   ],
   "source": [
    "#2. Given diameter of circle. Find its length.\n",
    "radius = 4\n",
    "diametr = radius *2\n",
    "print(f\"diametr of circle:{diametr}\")\n",
    "\n",
    "p = 3.14\n",
    "p = float(p)\n",
    "lenght = 2* p * radius\n",
    "print(f\"lenght of crcle:{lenght}\")"
   ]
  },
  {
   "cell_type": "code",
   "execution_count": 15,
   "id": "0c435143",
   "metadata": {},
   "outputs": [
    {
     "name": "stdout",
     "output_type": "stream",
     "text": [
      "the mean of 2.0,3.0 is 2.5\n"
     ]
    }
   ],
   "source": [
    "#3. Given two numbers a and b. Find their mean.\n",
    "a = float(input(\"first number (a): \"))\n",
    "b = float(input(\"second number (b): \"))\n",
    "mean = (a + b) / 2\n",
    "print(f\"the mean of {a},{b} is {mean}\")"
   ]
  },
  {
   "cell_type": "code",
   "execution_count": 18,
   "id": "4cc304b9",
   "metadata": {},
   "outputs": [
    {
     "name": "stdout",
     "output_type": "stream",
     "text": [
      "the sum of 5.0,3.0 is 8.0\n",
      "the product of 5.0,3.0 is 15.0\n",
      "the square of 5.0 is 25.0,the square of 3.0 is 9.0\n"
     ]
    }
   ],
   "source": [
    "#4. Given two numbers a and b. Find their sum, product and square of each number.\n",
    "a = float(input(\"first number (a): \"))\n",
    "b = float(input(\"second number (b): \"))\n",
    "sum = a + b\n",
    "product = a * b\n",
    "square_a = a**2\n",
    "square_b = b**2\n",
    "print(f\"the sum of {a},{b} is {sum}\")\n",
    "print(f\"the product of {a},{b} is {product}\")\n",
    "print(f\"the square of {a} is {square_a},the square of {b} is {square_b}\")"
   ]
  }
 ],
 "metadata": {
  "kernelspec": {
   "display_name": "Python 3",
   "language": "python",
   "name": "python3"
  },
  "language_info": {
   "codemirror_mode": {
    "name": "ipython",
    "version": 3
   },
   "file_extension": ".py",
   "mimetype": "text/x-python",
   "name": "python",
   "nbconvert_exporter": "python",
   "pygments_lexer": "ipython3",
   "version": "3.13.3"
  }
 },
 "nbformat": 4,
 "nbformat_minor": 5
}
