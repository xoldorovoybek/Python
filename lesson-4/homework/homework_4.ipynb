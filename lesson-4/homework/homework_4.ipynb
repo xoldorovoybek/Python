{
 "cells": [
  {
   "cell_type": "markdown",
   "id": "8030e875",
   "metadata": {},
   "source": [
    "# Python Dictionary and Set Exercises\n",
    "\n",
    "## Dictionary Exercises\n",
    "\n",
    "### 1. Sort a Dictionary by Value\n",
    "Write a Python script to sort (ascending and descending) a dictionary by value."
   ]
  },
  {
   "cell_type": "code",
   "execution_count": 9,
   "id": "6dc883d1",
   "metadata": {},
   "outputs": [
    {
     "data": {
      "text/plain": [
       "['cherry', 'banana', 'apple']"
      ]
     },
     "execution_count": 9,
     "metadata": {},
     "output_type": "execute_result"
    }
   ],
   "source": [
    "my_dict = {\"apple\" : 10, \"banana\" : 22, \"cherry\": 30}\n",
    "desc_my_dict = sorted(my_dict,reverse=False)\n",
    "desc_my_dict    \n",
    "asc_my_dict = sorted(my_dict,reverse=True)  \n",
    "asc_my_dict               \n"
   ]
  },
  {
   "cell_type": "markdown",
   "id": "b0f8cad5",
   "metadata": {},
   "source": [
    "### 2. Add a Key to a Dictionary\n",
    "Write a Python script to add a key to a dictionary.\n",
    "**Sample Dictionary:**\n",
    "```python\n",
    "{0: 10, 1: 20}\n",
    "```\n",
    "\n",
    "**Expected Result:**\n",
    "```python\n",
    "{0: 10, 1: 20, 2: 30}\n",
    "```"
   ]
  },
  {
   "cell_type": "code",
   "execution_count": 10,
   "id": "c2d8fd48",
   "metadata": {},
   "outputs": [
    {
     "name": "stdout",
     "output_type": "stream",
     "text": [
      "{0: 10, 1: 20, 2: 30}\n"
     ]
    }
   ],
   "source": [
    "my_list = {0: 10, 1: 20}\n",
    "my_list[2] = 30\n",
    "print(my_list)"
   ]
  },
  {
   "cell_type": "markdown",
   "id": "30b7b18f",
   "metadata": {},
   "source": [
    "### 3. Concatenate Multiple Dictionaries\n",
    "Write a Python script to concatenate the following dictionaries to create a new one.\n",
    "\n",
    "**Sample Dictionaries:**\n",
    "```python\n",
    "dic1 = {1: 10, 2: 20}\n",
    "dic2 = {3: 30, 4: 40}\n",
    "dic3 = {5: 50, 6: 60}\n",
    "```\n",
    "\n",
    "**Expected Result:**\n",
    "```python\n",
    "{1: 10, 2: 20, 3: 30, 4: 40, 5: 50, 6: 60}\n",
    "```"
   ]
  },
  {
   "cell_type": "code",
   "execution_count": 12,
   "id": "b613c385",
   "metadata": {},
   "outputs": [
    {
     "data": {
      "text/plain": [
       "{1: 10, 2: 20, 3: 30, 4: 40, 5: 50, 6: 60}"
      ]
     },
     "execution_count": 12,
     "metadata": {},
     "output_type": "execute_result"
    }
   ],
   "source": [
    "dic1 = {1: 10, 2: 20}\n",
    "dic2 = {3: 30, 4: 40}\n",
    "dic3 = {5: 50, 6: 60}\n",
    "combined = dic1 | dic2 | dic3\n",
    "combined"
   ]
  },
  {
   "cell_type": "markdown",
   "id": "d6c47cec",
   "metadata": {},
   "source": [
    "### 4. Generate a Dictionary with Squares\n",
    "Write a Python script to generate and print a dictionary that contains a number (between 1 and n) in the form `(x, x*x)`.\n",
    "\n",
    "**Sample Dictionary (n = 5):**\n",
    "```python\n",
    "{1: 1, 2: 4, 3: 9, 4: 16, 5: 25}\n",
    "```"
   ]
  },
  {
   "cell_type": "code",
   "execution_count": 19,
   "id": "923ba4e3",
   "metadata": {},
   "outputs": [
    {
     "data": {
      "text/plain": [
       "{1: 1, 2: 4, 3: 9, 4: 16, 5: 25}"
      ]
     },
     "execution_count": 19,
     "metadata": {},
     "output_type": "execute_result"
    }
   ],
   "source": [
    "n = int(input())\n",
    "sq_dict = {}\n",
    "\n",
    "for i in range(1, n+1):\n",
    "    sq_dict[i] = i*i\n",
    "\n",
    "sq_dict"
   ]
  },
  {
   "cell_type": "markdown",
   "id": "f436bd90",
   "metadata": {},
   "source": [
    "### 5. Dictionary of Squares (1 to 15)\n",
    "Write a Python script to print a dictionary where the keys are numbers between 1 and 15 (both included) and the values are the square of the keys.\n",
    "\n",
    "**Expected Output:**\n",
    "```python\n",
    "{1: 1, 2: 4, 3: 9, 4: 16, 5: 25, 6: 36, 7: 49, 8: 64, 9: 81, 10: 100, 11: 121, 12: 144, 13: 169, 14: 196, 15: 225}\n",
    "```"
   ]
  },
  {
   "cell_type": "code",
   "execution_count": null,
   "id": "7c729375",
   "metadata": {},
   "outputs": [],
   "source": [
    "#this topic hasn't been covered yet"
   ]
  },
  {
   "cell_type": "markdown",
   "id": "cd48e297",
   "metadata": {},
   "source": [
    "## Set Exercises\n",
    "\n",
    "### 1. Create a Set\n",
    "Write a Python program to create a set."
   ]
  },
  {
   "cell_type": "code",
   "execution_count": 20,
   "id": "e0086fb4",
   "metadata": {},
   "outputs": [
    {
     "data": {
      "text/plain": [
       "{'Akmal', 'Akobir', 'Fuzayl', 'Islombek', 'Oybek', 'Sanjar'}"
      ]
     },
     "execution_count": 20,
     "metadata": {},
     "output_type": "execute_result"
    }
   ],
   "source": [
    "my_list = [\"Sanjar\", \"Oybek\", \"Akobir\", \"Fuzayl\", \"Islombek\", \"Akobir\", 'Akmal']\n",
    "\n",
    "my_set = set(my_list)\n",
    "\n",
    "my_set"
   ]
  },
  {
   "cell_type": "markdown",
   "id": "96e9e53d",
   "metadata": {},
   "source": [
    "### 2. Iterate Over a Set\n",
    "Write a Python program to iterate over sets."
   ]
  },
  {
   "cell_type": "code",
   "execution_count": 22,
   "id": "04f2eabb",
   "metadata": {},
   "outputs": [
    {
     "name": "stdout",
     "output_type": "stream",
     "text": [
      "Fuzayl\n",
      "Sanjar\n",
      "Akobir\n",
      "Akmal\n",
      "Islombek\n",
      "Oybek\n"
     ]
    }
   ],
   "source": [
    "my_set\n",
    "for i in my_set:\n",
    "    print(i)\n",
    " "
   ]
  },
  {
   "cell_type": "markdown",
   "id": "c71e9293",
   "metadata": {},
   "source": [
    "### 3. Add Member(s) to a Set\n",
    "Write a Python program to add member(s) to a set."
   ]
  },
  {
   "cell_type": "code",
   "execution_count": 31,
   "id": "1b2caa44",
   "metadata": {},
   "outputs": [
    {
     "data": {
      "text/plain": [
       "{'Akmal', 'Akobir', 'Islombek', 'Oybek', 'Shavkat'}"
      ]
     },
     "execution_count": 31,
     "metadata": {},
     "output_type": "execute_result"
    }
   ],
   "source": [
    "my_set\n",
    "my_set.add('Shavkat')\n",
    "my_set"
   ]
  },
  {
   "cell_type": "markdown",
   "id": "fbc1a53a",
   "metadata": {},
   "source": [
    "### 4. Remove Item(s) from a Set\n",
    "Write a Python program to remove item(s) from a given set."
   ]
  },
  {
   "cell_type": "code",
   "execution_count": 35,
   "id": "f1dee627",
   "metadata": {},
   "outputs": [
    {
     "data": {
      "text/plain": [
       "['Sanjar', 'Oybek', 'Akobir', 'Fuzayl', 'Islombek', 'Akobir']"
      ]
     },
     "execution_count": 35,
     "metadata": {},
     "output_type": "execute_result"
    }
   ],
   "source": [
    "my_list = [\"Sanjar\", \"Oybek\", \"Akobir\", \"Fuzayl\", \"Islombek\", \"Akobir\", 'Akmal']\n",
    "my_list.pop()\n",
    "my_list"
   ]
  },
  {
   "cell_type": "markdown",
   "id": "6494048f",
   "metadata": {},
   "source": [
    "### 5. Remove an Item if Present in the Set\n",
    "Write a Python program to remove an item from a set if it is present in the set."
   ]
  },
  {
   "cell_type": "code",
   "execution_count": 37,
   "id": "620d3d11",
   "metadata": {},
   "outputs": [
    {
     "data": {
      "text/plain": [
       "['Oybek', 'Akobir', 'Fuzayl', 'Islombek', 'Akobir', 'Akmal']"
      ]
     },
     "execution_count": 37,
     "metadata": {},
     "output_type": "execute_result"
    }
   ],
   "source": [
    "my_list = [\"Sanjar\", \"Oybek\", \"Akobir\", \"Fuzayl\", \"Islombek\", \"Akobir\", 'Akmal']\n",
    "my_list.remove('Sanjar')\n",
    "my_list"
   ]
  }
 ],
 "metadata": {
  "kernelspec": {
   "display_name": "Python 3",
   "language": "python",
   "name": "python3"
  },
  "language_info": {
   "codemirror_mode": {
    "name": "ipython",
    "version": 3
   },
   "file_extension": ".py",
   "mimetype": "text/x-python",
   "name": "python",
   "nbconvert_exporter": "python",
   "pygments_lexer": "ipython3",
   "version": "3.13.3"
  }
 },
 "nbformat": 4,
 "nbformat_minor": 5
}
