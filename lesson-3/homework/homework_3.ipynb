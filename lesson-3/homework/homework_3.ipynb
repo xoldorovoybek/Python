{
 "cells": [
  {
   "cell_type": "markdown",
   "id": "65677bc1",
   "metadata": {},
   "source": [
    "# Homework: List and Tuple Exercises"
   ]
  },
  {
   "cell_type": "markdown",
   "id": "3900a052",
   "metadata": {},
   "source": [
    "## 1. Create and Access List Elements\n",
    "Create a list containing five different fruits and print the third fruit."
   ]
  },
  {
   "cell_type": "code",
   "execution_count": 9,
   "id": "2b06110f",
   "metadata": {},
   "outputs": [
    {
     "name": "stdout",
     "output_type": "stream",
     "text": [
      "melon\n"
     ]
    }
   ],
   "source": [
    "fruits = [\"apple\", \"mango\", \"melon\", \"banana\", \"watermelon\"]\n",
    "print(fruits[2])"
   ]
  },
  {
   "cell_type": "markdown",
   "id": "ef025073",
   "metadata": {},
   "source": [
    "## 2. Concatenate Two Lists\n",
    "Create two lists of numbers and concatenate them into a single list."
   ]
  },
  {
   "cell_type": "code",
   "execution_count": 2,
   "id": "8432f932",
   "metadata": {},
   "outputs": [
    {
     "data": {
      "text/plain": [
       "[5, 6, 8, 7, 4, 1, 3, 11]"
      ]
     },
     "execution_count": 2,
     "metadata": {},
     "output_type": "execute_result"
    }
   ],
   "source": [
    "first_list = [5, 6, 8, 7]\n",
    "second_list = [4, 1, 3, 11]\n",
    "first_list.extend(second_list)\n",
    "first_list\n"
   ]
  },
  {
   "cell_type": "markdown",
   "id": "5d79bc17",
   "metadata": {},
   "source": [
    "## 3. Extract Elements from a List\n",
    " Given a list of numbers, extract the first, middle, and last elements and store them in a new list.\n"
   ]
  },
  {
   "cell_type": "code",
   "execution_count": 10,
   "id": "5d9ad41b",
   "metadata": {},
   "outputs": [
    {
     "data": {
      "text/plain": [
       "[5, 6, 9]"
      ]
     },
     "execution_count": 10,
     "metadata": {},
     "output_type": "execute_result"
    }
   ],
   "source": [
    "my_list = [5, 6, 7, 8, 9]\n",
    "first_list = my_list[0]\n",
    "last_list = my_list[-1]\n",
    "middle_list = my_list[len(my_list)%2]\n",
    "\n",
    "new_list = [first_list, middle_list, last_list]\n",
    "new_list"
   ]
  },
  {
   "cell_type": "markdown",
   "id": "7837395e",
   "metadata": {},
   "source": [
    "## 4. Convert List to Tuple\n",
    "Create a list of your five favorite movies and convert it into a tuple."
   ]
  },
  {
   "cell_type": "code",
   "execution_count": 1,
   "id": "159a39ca",
   "metadata": {},
   "outputs": [
    {
     "name": "stdout",
     "output_type": "stream",
     "text": [
      "('Osmondagi bolalar', 'kichkina tabib', 'shum bola', 'o`tgan kunlar', 'Vatan')\n"
     ]
    }
   ],
   "source": [
    "favorite_films = [\"Osmondagi bolalar\", \"kichkina tabib\", \"shum bola\", \"o`tgan kunlar\", \"Vatan\"]\n",
    "favorite_films_tuple = tuple(favorite_films)\n",
    "print(favorite_films_tuple)"
   ]
  },
  {
   "cell_type": "markdown",
   "id": "b3a82061",
   "metadata": {},
   "source": [
    "## 5. Check Element in a List\n",
    "Given a list of cities, check if \"Paris\" is in the list and print the result."
   ]
  },
  {
   "cell_type": "code",
   "execution_count": 7,
   "id": "ffc835eb",
   "metadata": {},
   "outputs": [
    {
     "name": "stdout",
     "output_type": "stream",
     "text": [
      "Paris is in the list.\n"
     ]
    }
   ],
   "source": [
    "city_list = ['London', 'New york', 'Tashkent', 'Paris', 'Parkent']\n",
    "if \"Paris\" in city_list:\n",
    "    print('Paris is in the list.')\n",
    "else:\n",
    "    print('Paris is\\' not in the list.')\n"
   ]
  },
  {
   "cell_type": "markdown",
   "id": "17e8ad14",
   "metadata": {},
   "source": [
    "## 6. Duplicate a List Without Using Loops\n",
    "Create a list of numbers and duplicate it without using loops."
   ]
  },
  {
   "cell_type": "code",
   "execution_count": 8,
   "id": "0858744a",
   "metadata": {},
   "outputs": [
    {
     "name": "stdout",
     "output_type": "stream",
     "text": [
      "[5, 6, 2, 3, 1, 5, 6, 2, 3, 1]\n"
     ]
    }
   ],
   "source": [
    "my_list = [5, 6, 2, 3, 1]\n",
    "dublicate_my_list = my_list * 2\n",
    "print(dublicate_my_list)"
   ]
  },
  {
   "cell_type": "markdown",
   "id": "09cbd60a",
   "metadata": {},
   "source": [
    "## 7. Swap First and Last Elements of a List\n",
    "Given a list of numbers, swap the first and last elements."
   ]
  },
  {
   "cell_type": "code",
   "execution_count": 11,
   "id": "dbebfbc3",
   "metadata": {},
   "outputs": [
    {
     "data": {
      "text/plain": [
       "['alo', 6, 8, 9, 10, 'hayr']"
      ]
     },
     "execution_count": 11,
     "metadata": {},
     "output_type": "execute_result"
    }
   ],
   "source": [
    "my_list = [5, 6, 8, 9, 10, 11]\n",
    "my_list[0] = 'alo'\n",
    "my_list[-1] = 'hayr'\n",
    "my_list"
   ]
  },
  {
   "cell_type": "markdown",
   "id": "78c9e6cb",
   "metadata": {},
   "source": [
    "## 8. Slice a Tuple\n",
    "Create a tuple of numbers from 1 to 10 and print a slice from index 3 to 7."
   ]
  },
  {
   "cell_type": "code",
   "execution_count": 15,
   "id": "a4ea5ca9",
   "metadata": {},
   "outputs": [
    {
     "data": {
      "text/plain": [
       "(4, 5, 6, 7)"
      ]
     },
     "execution_count": 15,
     "metadata": {},
     "output_type": "execute_result"
    }
   ],
   "source": [
    "numbers = tuple(range(1,11))\n",
    "slice = numbers[3:7]\n",
    "slice"
   ]
  },
  {
   "cell_type": "markdown",
   "id": "5ffdec1b",
   "metadata": {},
   "source": [
    "## 9. Count Occurrences in a List\n",
    "Create a list of colors and count how many times \"blue\" appears in the list."
   ]
  },
  {
   "cell_type": "code",
   "execution_count": 17,
   "id": "65f02f9f",
   "metadata": {},
   "outputs": [
    {
     "data": {
      "text/plain": [
       "2"
      ]
     },
     "execution_count": 17,
     "metadata": {},
     "output_type": "execute_result"
    }
   ],
   "source": [
    "Colors = ['blue', 'red', 'yellow', 'blue', 'orange', 'yellow']\n",
    "Colors.count('blue')"
   ]
  },
  {
   "cell_type": "markdown",
   "id": "df7cdb65",
   "metadata": {},
   "source": [
    "## 10. Find the Index of an Element in a Tuple\n",
    "Given a tuple of animals, find the index of \"lion\"."
   ]
  },
  {
   "cell_type": "code",
   "execution_count": 18,
   "id": "d3f4cfa5",
   "metadata": {},
   "outputs": [
    {
     "data": {
      "text/plain": [
       "1"
      ]
     },
     "execution_count": 18,
     "metadata": {},
     "output_type": "execute_result"
    }
   ],
   "source": [
    "Animals = ('tiger', 'lion', 'zebra', 'snake', 'monkey')\n",
    "index_Animal = Animals.index('lion')\n",
    "index_Animal"
   ]
  },
  {
   "cell_type": "markdown",
   "id": "9483a4ba",
   "metadata": {},
   "source": [
    "## 11. Merge Two Tuples\n",
    "Create two tuples of numbers and merge them into a single tuple."
   ]
  },
  {
   "cell_type": "code",
   "execution_count": 20,
   "id": "f478ead1",
   "metadata": {},
   "outputs": [
    {
     "data": {
      "text/plain": [
       "(5, 6, 7, 8, 9, 2, 3, 2)"
      ]
     },
     "execution_count": 20,
     "metadata": {},
     "output_type": "execute_result"
    }
   ],
   "source": [
    "First_numbers = (5, 6, 7, 8)\n",
    "second_numbers = (9, 2, 3, 2)\n",
    "Merge_numbers = First_numbers + second_numbers\n",
    "Merge_numbers"
   ]
  },
  {
   "cell_type": "markdown",
   "id": "ffa770e3",
   "metadata": {},
   "source": [
    "## 12. Find the Length of a List and Tuple\n",
    "Given a list and a tuple, find and print their lengths."
   ]
  },
  {
   "cell_type": "code",
   "execution_count": 28,
   "id": "c1ed7239",
   "metadata": {},
   "outputs": [
    {
     "data": {
      "text/plain": [
       "6"
      ]
     },
     "execution_count": 28,
     "metadata": {},
     "output_type": "execute_result"
    }
   ],
   "source": [
    "Animals = ('tiger', 'lion', 'zebra', 'snake', 'monkey')\n",
    "Colors = ['blue', 'red', 'yellow', 'blue', 'orange', 'yellow']\n",
    "len(Animals)\n",
    "len(Colors)"
   ]
  },
  {
   "cell_type": "markdown",
   "id": "0a049003",
   "metadata": {},
   "source": [
    "## 13. Convert Tuple to List\n",
    "Create a tuple of five numbers and convert it into a list."
   ]
  },
  {
   "cell_type": "code",
   "execution_count": 29,
   "id": "964c21d4",
   "metadata": {},
   "outputs": [
    {
     "data": {
      "text/plain": [
       "[5, 6, 4, 3, 8]"
      ]
     },
     "execution_count": 29,
     "metadata": {},
     "output_type": "execute_result"
    }
   ],
   "source": [
    "numbers = (5, 6, 4, 3, 8)\n",
    "list_numbers = list(numbers)\n",
    "list_numbers"
   ]
  },
  {
   "cell_type": "markdown",
   "id": "624491e3",
   "metadata": {},
   "source": [
    "## 14. Find Maximum and Minimum in a Tuple\n",
    "Given a tuple of numbers, find and print the maximum and minimum values."
   ]
  },
  {
   "cell_type": "code",
   "execution_count": null,
   "id": "22d08278",
   "metadata": {},
   "outputs": [
    {
     "data": {
      "text/plain": [
       "8"
      ]
     },
     "execution_count": 32,
     "metadata": {},
     "output_type": "execute_result"
    }
   ],
   "source": [
    "numbers = (5, 6, 4, 3, 8)\n",
    "max_numbers = max(numbers)\n",
    "min_numbers = min(numbers)\n",
    "max_numbers\n",
    "min_numbers"
   ]
  },
  {
   "cell_type": "markdown",
   "id": "97a85d52",
   "metadata": {},
   "source": [
    "## 15. Reverse a Tuple\n",
    "Create a tuple of words and print it in reverse order."
   ]
  },
  {
   "cell_type": "code",
   "execution_count": 38,
   "id": "b70813ca",
   "metadata": {},
   "outputs": [
    {
     "data": {
      "text/plain": [
       "('monkey', 'snake', 'zebra', 'lion', 'tiger')"
      ]
     },
     "execution_count": 38,
     "metadata": {},
     "output_type": "execute_result"
    }
   ],
   "source": [
    "Animals = ('tiger', 'lion', 'zebra', 'snake', 'monkey')\n",
    "reversed_Animals = Animals[::-1]\n",
    "reversed_Animals"
   ]
  }
 ],
 "metadata": {
  "kernelspec": {
   "display_name": "Python 3",
   "language": "python",
   "name": "python3"
  },
  "language_info": {
   "codemirror_mode": {
    "name": "ipython",
    "version": 3
   },
   "file_extension": ".py",
   "mimetype": "text/x-python",
   "name": "python",
   "nbconvert_exporter": "python",
   "pygments_lexer": "ipython3",
   "version": "3.13.3"
  }
 },
 "nbformat": 4,
 "nbformat_minor": 5
}
