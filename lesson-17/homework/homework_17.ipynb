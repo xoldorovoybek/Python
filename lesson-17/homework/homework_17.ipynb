{
 "cells": [
  {
   "cell_type": "markdown",
   "id": "52cc29b8",
   "metadata": {},
   "source": [
    "Homework 1:\n",
    "\n",
    "import pandas as pd\n",
    "\n",
    "data = {'First Name': ['Alice', 'Bob', 'Charlie', 'David'],\n",
    "        'Age': [25, 30, 35, 40],\n",
    "        'City': ['New York', 'San Francisco', 'Los Angeles', 'Chicago']}\n",
    "df = pd.DataFrame(data)\n",
    "\n",
    "1. Rename column names using function. \"First Name\" --> \"first_name\", \"Age\" --> \"age"
   ]
  },
  {
   "cell_type": "code",
   "execution_count": 5,
   "id": "3ab6a92c",
   "metadata": {},
   "outputs": [
    {
     "data": {
      "text/html": [
       "<div>\n",
       "<style scoped>\n",
       "    .dataframe tbody tr th:only-of-type {\n",
       "        vertical-align: middle;\n",
       "    }\n",
       "\n",
       "    .dataframe tbody tr th {\n",
       "        vertical-align: top;\n",
       "    }\n",
       "\n",
       "    .dataframe thead th {\n",
       "        text-align: right;\n",
       "    }\n",
       "</style>\n",
       "<table border=\"1\" class=\"dataframe\">\n",
       "  <thead>\n",
       "    <tr style=\"text-align: right;\">\n",
       "      <th></th>\n",
       "      <th>first_name</th>\n",
       "      <th>age</th>\n",
       "      <th>City</th>\n",
       "    </tr>\n",
       "  </thead>\n",
       "  <tbody>\n",
       "    <tr>\n",
       "      <th>0</th>\n",
       "      <td>Alice</td>\n",
       "      <td>25</td>\n",
       "      <td>New York</td>\n",
       "    </tr>\n",
       "    <tr>\n",
       "      <th>1</th>\n",
       "      <td>Bob</td>\n",
       "      <td>30</td>\n",
       "      <td>San Francisco</td>\n",
       "    </tr>\n",
       "    <tr>\n",
       "      <th>2</th>\n",
       "      <td>Charlie</td>\n",
       "      <td>35</td>\n",
       "      <td>Los Angeles</td>\n",
       "    </tr>\n",
       "    <tr>\n",
       "      <th>3</th>\n",
       "      <td>David</td>\n",
       "      <td>40</td>\n",
       "      <td>Chicago</td>\n",
       "    </tr>\n",
       "  </tbody>\n",
       "</table>\n",
       "</div>"
      ],
      "text/plain": [
       "  first_name  age           City\n",
       "0      Alice   25       New York\n",
       "1        Bob   30  San Francisco\n",
       "2    Charlie   35    Los Angeles\n",
       "3      David   40        Chicago"
      ]
     },
     "execution_count": 5,
     "metadata": {},
     "output_type": "execute_result"
    }
   ],
   "source": [
    "import pandas as pd\n",
    "\n",
    "data = {'First Name': ['Alice', 'Bob', 'Charlie', 'David'],\n",
    "        'Age': [25, 30, 35, 40],\n",
    "        'City': ['New York', 'San Francisco', 'Los Angeles', 'Chicago']}\n",
    "df = pd.DataFrame(data)\n",
    "df = df.rename(columns = {'First Name': 'first_name', 'Age': 'age'})\n",
    "df"
   ]
  },
  {
   "cell_type": "markdown",
   "id": "16776152",
   "metadata": {},
   "source": [
    "2. Print the first 3 rows of the DataFrame"
   ]
  },
  {
   "cell_type": "code",
   "execution_count": 6,
   "id": "ffc55df2",
   "metadata": {},
   "outputs": [
    {
     "data": {
      "text/html": [
       "<div>\n",
       "<style scoped>\n",
       "    .dataframe tbody tr th:only-of-type {\n",
       "        vertical-align: middle;\n",
       "    }\n",
       "\n",
       "    .dataframe tbody tr th {\n",
       "        vertical-align: top;\n",
       "    }\n",
       "\n",
       "    .dataframe thead th {\n",
       "        text-align: right;\n",
       "    }\n",
       "</style>\n",
       "<table border=\"1\" class=\"dataframe\">\n",
       "  <thead>\n",
       "    <tr style=\"text-align: right;\">\n",
       "      <th></th>\n",
       "      <th>first_name</th>\n",
       "      <th>age</th>\n",
       "      <th>City</th>\n",
       "    </tr>\n",
       "  </thead>\n",
       "  <tbody>\n",
       "    <tr>\n",
       "      <th>0</th>\n",
       "      <td>Alice</td>\n",
       "      <td>25</td>\n",
       "      <td>New York</td>\n",
       "    </tr>\n",
       "    <tr>\n",
       "      <th>1</th>\n",
       "      <td>Bob</td>\n",
       "      <td>30</td>\n",
       "      <td>San Francisco</td>\n",
       "    </tr>\n",
       "    <tr>\n",
       "      <th>2</th>\n",
       "      <td>Charlie</td>\n",
       "      <td>35</td>\n",
       "      <td>Los Angeles</td>\n",
       "    </tr>\n",
       "  </tbody>\n",
       "</table>\n",
       "</div>"
      ],
      "text/plain": [
       "  first_name  age           City\n",
       "0      Alice   25       New York\n",
       "1        Bob   30  San Francisco\n",
       "2    Charlie   35    Los Angeles"
      ]
     },
     "execution_count": 6,
     "metadata": {},
     "output_type": "execute_result"
    }
   ],
   "source": [
    "df.head(3)"
   ]
  },
  {
   "cell_type": "markdown",
   "id": "07b1673b",
   "metadata": {},
   "source": [
    "3. Find the mean age of the individuals"
   ]
  },
  {
   "cell_type": "code",
   "execution_count": 7,
   "id": "41b89753",
   "metadata": {},
   "outputs": [
    {
     "name": "stdout",
     "output_type": "stream",
     "text": [
      "32.5\n"
     ]
    }
   ],
   "source": [
    "mean_age = df['age'].mean()\n",
    "print(mean_age)"
   ]
  },
  {
   "cell_type": "markdown",
   "id": "a9ca5ab1",
   "metadata": {},
   "source": [
    "4. Select and print only the 'Name' and 'City' columns"
   ]
  },
  {
   "cell_type": "code",
   "execution_count": 8,
   "id": "efe48f5b",
   "metadata": {},
   "outputs": [
    {
     "name": "stdout",
     "output_type": "stream",
     "text": [
      "  first_name           City\n",
      "0      Alice       New York\n",
      "1        Bob  San Francisco\n",
      "2    Charlie    Los Angeles\n",
      "3      David        Chicago\n"
     ]
    }
   ],
   "source": [
    "print(df[['first_name', 'City']])"
   ]
  },
  {
   "cell_type": "markdown",
   "id": "d9d5aa9d",
   "metadata": {},
   "source": [
    "5. Add a new column 'Salary' with random salary values"
   ]
  },
  {
   "cell_type": "code",
   "execution_count": 9,
   "id": "c1257eae",
   "metadata": {},
   "outputs": [
    {
     "name": "stdout",
     "output_type": "stream",
     "text": [
      "  first_name  age           City  Salary\n",
      "0      Alice   25       New York    1562\n",
      "1        Bob   30  San Francisco    5130\n",
      "2    Charlie   35    Los Angeles    4008\n",
      "3      David   40        Chicago    1198\n"
     ]
    }
   ],
   "source": [
    "import numpy as np\n",
    "df['Salary'] = np.random.randint(1000,10000, size=len(df))\n",
    "print(df)"
   ]
  },
  {
   "cell_type": "markdown",
   "id": "f68575d0",
   "metadata": {},
   "source": [
    "6. Display summary statistics of the DataFrame"
   ]
  },
  {
   "cell_type": "code",
   "execution_count": 10,
   "id": "b93e9484",
   "metadata": {},
   "outputs": [
    {
     "name": "stdout",
     "output_type": "stream",
     "text": [
      "             age       Salary\n",
      "count   4.000000     4.000000\n",
      "mean   32.500000  2974.500000\n",
      "std     6.454972  1903.103693\n",
      "min    25.000000  1198.000000\n",
      "25%    28.750000  1471.000000\n",
      "50%    32.500000  2785.000000\n",
      "75%    36.250000  4288.500000\n",
      "max    40.000000  5130.000000\n"
     ]
    }
   ],
   "source": [
    "print(df.describe())"
   ]
  },
  {
   "cell_type": "markdown",
   "id": "4bc0bec4",
   "metadata": {},
   "source": [
    "Homework 2:\n",
    "\n",
    "1. Create a DataFrame named sales_and_expenses with columns 'Month', 'Sales', and 'Expenses', representing monthly sales and expenses data.\n",
    "Use below table.\n",
    "\n",
    "| Month | Sales | Expenses |\n",
    "|-------|-------|----------|\n",
    "| Jan   | 5000  | 3000     |\n",
    "| Feb   | 6000  | 3500     |\n",
    "| Mar   | 7500  | 4000     |\n",
    "| Apr   | 8000  | 4500     |"
   ]
  },
  {
   "cell_type": "code",
   "execution_count": 11,
   "id": "7da1896c",
   "metadata": {},
   "outputs": [
    {
     "name": "stdout",
     "output_type": "stream",
     "text": [
      "  Month  Sales  Expenses\n",
      "0   Jan   5000      3000\n",
      "1   Feb   6000      3500\n",
      "2   Mar   7500      4000\n",
      "3   Apr   8000      4500\n"
     ]
    }
   ],
   "source": [
    "import pandas as pd\n",
    "sales_expenses = pd.DataFrame({\n",
    "    'Month' : ['Jan', 'Feb', 'Mar', 'Apr'],\n",
    "    'Sales' : [5000, 6000, 7500, 8000],\n",
    "    'Expenses' : [3000, 3500, 4000, 4500]\n",
    "})\n",
    "print(sales_expenses)"
   ]
  },
  {
   "cell_type": "markdown",
   "id": "0468cb74",
   "metadata": {},
   "source": [
    "2. Calculate and display the maximum sales and expenses."
   ]
  },
  {
   "cell_type": "code",
   "execution_count": 23,
   "id": "0f689446",
   "metadata": {},
   "outputs": [
    {
     "name": "stdout",
     "output_type": "stream",
     "text": [
      "8000\n",
      "4500\n"
     ]
    }
   ],
   "source": [
    "max_sales = sales_expenses['Sales'].max()\n",
    "print(max_sales)\n",
    "max_expenses = sales_expenses['Expenses'].max()\n",
    "print(max_expenses)\n",
    "\n"
   ]
  },
  {
   "cell_type": "markdown",
   "id": "75f4d8f2",
   "metadata": {},
   "source": [
    "3. Calculate and display the minimum sales and expenses."
   ]
  },
  {
   "cell_type": "code",
   "execution_count": 24,
   "id": "7d7fafd8",
   "metadata": {},
   "outputs": [
    {
     "name": "stdout",
     "output_type": "stream",
     "text": [
      "5000\n",
      "3000\n"
     ]
    }
   ],
   "source": [
    "min_sales = sales_expenses['Sales'].min()\n",
    "print(min_sales)\n",
    "min_expenses = sales_expenses['Expenses'].min()\n",
    "print(min_expenses)"
   ]
  },
  {
   "cell_type": "markdown",
   "id": "8bfd7a0a",
   "metadata": {},
   "source": [
    "4. Calculate and display the average sales and expenses."
   ]
  },
  {
   "cell_type": "code",
   "execution_count": 25,
   "id": "aaa72252",
   "metadata": {},
   "outputs": [
    {
     "name": "stdout",
     "output_type": "stream",
     "text": [
      "6625.0\n",
      "3750.0\n"
     ]
    }
   ],
   "source": [
    "mean_sales = sales_expenses['Sales'].mean()\n",
    "print(mean_sales)\n",
    "mean_expenses = sales_expenses['Expenses'].mean()\n",
    "print(mean_expenses)"
   ]
  },
  {
   "cell_type": "markdown",
   "id": "83de4158",
   "metadata": {},
   "source": [
    "Homework 3:\n",
    "\n",
    "1. Create a DataFrame named expenses with columns 'Category', 'January', 'February', 'March', and 'April', representing monthly expenses for different categories. Use below table.\n",
    "\n",
    "| Category       | January | February | March | April |\n",
    "|----------------|---------|----------|-------|-------|\n",
    "| Rent           | 1200    | 1300     | 1400  | 1500  |\n",
    "| Utilities      | 200     | 220      | 240   | 250   |\n",
    "| Groceries      | 300     | 320      | 330   | 350   |\n",
    "| Entertainment  | 150     | 160      | 170   | 180   |"
   ]
  },
  {
   "cell_type": "code",
   "execution_count": 17,
   "id": "82ded2d2",
   "metadata": {},
   "outputs": [
    {
     "name": "stdout",
     "output_type": "stream",
     "text": [
      "               January  February  March  April\n",
      "Rent              1200      1300   1400   1500\n",
      "Utilities          200       220    240    250\n",
      "Groceries          300       320    330    350\n",
      "Entertainment      150       160    170    180\n"
     ]
    }
   ],
   "source": [
    "import pandas as pd\n",
    "expenses = pd.DataFrame({\n",
    "    'January' : [1200, 200, 300, 150],\n",
    "    'February' : [1300, 220, 320, 160],\n",
    "    'March' : [1400, 240, 330, 170],\n",
    "    'April' : [1500, 250, 350, 180]\n",
    "}, index= ['Rent', 'Utilities', 'Groceries', 'Entertainment'])\n",
    "##expenses = expenses.set_index('Category')\n",
    "print(expenses)"
   ]
  },
  {
   "cell_type": "markdown",
   "id": "6734021d",
   "metadata": {},
   "source": [
    "2. Calculate and display the maximum expense for each category."
   ]
  },
  {
   "cell_type": "code",
   "execution_count": 10,
   "id": "1ab4eb1d",
   "metadata": {},
   "outputs": [
    {
     "name": "stdout",
     "output_type": "stream",
     "text": [
      "Rent             1500\n",
      "Utilities         250\n",
      "Groceries         350\n",
      "Entertainment     180\n",
      "dtype: int64\n"
     ]
    }
   ],
   "source": [
    "max_expenses = expenses.max(axis=1)\n",
    "print(max_expenses)"
   ]
  },
  {
   "cell_type": "markdown",
   "id": "9702a8ef",
   "metadata": {},
   "source": [
    "3. Calculate and display the minimum expense for each category."
   ]
  },
  {
   "cell_type": "code",
   "execution_count": 11,
   "id": "c413f8a2",
   "metadata": {},
   "outputs": [
    {
     "name": "stdout",
     "output_type": "stream",
     "text": [
      "Rent             1200\n",
      "Utilities         200\n",
      "Groceries         300\n",
      "Entertainment     150\n",
      "dtype: int64\n"
     ]
    }
   ],
   "source": [
    "min_expenses = expenses.min(axis=1)\n",
    "print(min_expenses)"
   ]
  },
  {
   "cell_type": "markdown",
   "id": "2b1130f6",
   "metadata": {},
   "source": [
    "4. Calculate and display the average expense for each category."
   ]
  },
  {
   "cell_type": "code",
   "execution_count": 13,
   "id": "7d6a8437",
   "metadata": {},
   "outputs": [
    {
     "name": "stdout",
     "output_type": "stream",
     "text": [
      "Rent             1350.0\n",
      "Utilities         227.5\n",
      "Groceries         325.0\n",
      "Entertainment     165.0\n",
      "dtype: float64\n"
     ]
    }
   ],
   "source": [
    "avarage_expenses = expenses.mean(axis=1)\n",
    "print(avarage_expenses)"
   ]
  }
 ],
 "metadata": {
  "kernelspec": {
   "display_name": "Python 3",
   "language": "python",
   "name": "python3"
  },
  "language_info": {
   "codemirror_mode": {
    "name": "ipython",
    "version": 3
   },
   "file_extension": ".py",
   "mimetype": "text/x-python",
   "name": "python",
   "nbconvert_exporter": "python",
   "pygments_lexer": "ipython3",
   "version": "3.13.3"
  }
 },
 "nbformat": 4,
 "nbformat_minor": 5
}
