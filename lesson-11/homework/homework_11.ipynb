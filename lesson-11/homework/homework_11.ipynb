{
 "cells": [
  {
   "cell_type": "markdown",
   "id": "5c9a0d6c",
   "metadata": {},
   "source": [
    "###Create your own virtual environment and install some python packages."
   ]
  },
  {
   "cell_type": "code",
   "execution_count": null,
   "id": "fd1f328b",
   "metadata": {},
   "outputs": [],
   "source": [
    "python -m venv venv\n",
    "venv\\Scripts\\activate\n",
    "pip install requests pandas\n",
    "pip install numpy matplotlib\n",
    "pip list\n",
    "pip freeze > requirements.txt\n",
    "deactivate\n",
    "\n",
    "\n"
   ]
  },
  {
   "cell_type": "markdown",
   "id": "f8d437fa",
   "metadata": {},
   "source": [
    "### Create math_operations.py module. Define add, subtract, multiply and divide functions in it. (All functions accept two arguments in this task)"
   ]
  },
  {
   "cell_type": "code",
   "execution_count": null,
   "id": "7dd407c9",
   "metadata": {},
   "outputs": [],
   "source": [
    "def add(a, b):\n",
    "    return a + b\n",
    "def subtract(a, b):\n",
    "    return a - b\n",
    "def multiply(a, b):\n",
    "    return a * b\n",
    "def divide(a, b):\n",
    "    if b == 0:\n",
    "        raise ValueError(\"Nolga bo`lish mumkin emas!\")\n",
    "    return a / b \n",
    "if __name__ == \"__main__\":\n",
    "    print(\"Testing functions from math_operations.py:\")\n",
    "    print(f\"5 + 3 = {add(5, 3)}\")\n",
    "    print(f\"10 - 4 = {subtract(10, 4)}\")\n",
    "    print(f\"6 * 7 = {multiply(6, 7)}\")\n",
    "    print(f\"10 / 2 = {divide(10, 2)}\")\n",
    "    try:\n",
    "        print(f\"7 / 0 = {divide(7, 0)}\")\n",
    "    except ValueError as e:\n",
    "        print(f\"Error: {e}\")\n"
   ]
  },
  {
   "cell_type": "markdown",
   "id": "7d999e07",
   "metadata": {},
   "source": [
    "### Create string_utils.py module. Define reverse_string and count_vowels functions in it. (All functions accept one argument in this task)"
   ]
  },
  {
   "cell_type": "code",
   "execution_count": null,
   "id": "b0dcffbc",
   "metadata": {},
   "outputs": [],
   "source": [
    "def reverse_string(s):\n",
    "    return s[::-1]\n",
    "def counts_vowels(s):\n",
    "    vowels = 'aeiuoAEOIU'\n",
    "    return sum(1 for char in s if char in vowels)\n",
    "if __name__ == \"__main__\":\n",
    "    print(\"Testing functions from string_utils.py:\")\n",
    "    test_string = \"Hello World\"\n",
    "    print(f\"Original string: {test_string}\")\n",
    "    print(f\"Reversed string: {reverse_string(test_string)}\")\n",
    "    print(f\"Number of vowels: {counts_vowels(test_string)}\")"
   ]
  },
  {
   "cell_type": "markdown",
   "id": "007a835c",
   "metadata": {},
   "source": [
    "### Create custom packages.\n",
    "Create geometry package."
   ]
  },
  {
   "cell_type": "code",
   "execution_count": null,
   "id": "2f5e0b77",
   "metadata": {},
   "outputs": [],
   "source": [
    "geometry/\n",
    "    __init__.py\n",
    "    circle.py\n",
    "\n",
    "from .circle import area, circumference\n",
    "# geometry/circle.py\n",
    "\n",
    "import math\n",
    "\n",
    "def area(radius):\n",
    "    \"\"\"Aylana yuzasi\"\"\"\n",
    "    return math.pi * radius ** 2\n",
    "\n",
    "def circumference(radius):\n",
    "    \"\"\"Aylana uzunligi (perimetri)\"\"\"\n",
    "    return 2 * math.pi * radius\n",
    "\n",
    "\n",
    "if __name__ == \"__main__\":\n",
    "    r = 5\n",
    "    print(f\"Testing circle module with radius = {r}\")\n",
    "    print(f\"Area: {area(r)}\")\n",
    "    print(f\"Circumference: {circumference(r)}\")\n"
   ]
  }
 ],
 "metadata": {
  "language_info": {
   "name": "python"
  }
 },
 "nbformat": 4,
 "nbformat_minor": 5
}
