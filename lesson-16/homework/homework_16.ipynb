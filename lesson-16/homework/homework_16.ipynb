{
 "cells": [
  {
   "cell_type": "markdown",
   "id": "f0f4c569",
   "metadata": {},
   "source": [
    "# 1. Convert List to 1D Array\n",
    "\n",
    "Write a NumPy program to convert a list of numeric values into a one-dimensional NumPy array.\n",
    "\n",
    "Expected Output:\n",
    "\n",
    "Original List: [12.23, 13.32, 100, 36.32]\n",
    "One-dimensional NumPy array: [ 12.23 13.32 100. 36.32]"
   ]
  },
  {
   "cell_type": "code",
   "execution_count": 1,
   "id": "82761fa5",
   "metadata": {},
   "outputs": [
    {
     "name": "stdout",
     "output_type": "stream",
     "text": [
      "[12.23, 13.32, 100, 36.32]\n",
      "[ 12.23  13.32 100.    36.32]\n"
     ]
    }
   ],
   "source": [
    "import numpy as np\n",
    "my_list = [12.23, 13.32, 100, 36.32]\n",
    "my_array = np.array(my_list)\n",
    "print(my_list)\n",
    "print(my_array)"
   ]
  },
  {
   "cell_type": "markdown",
   "id": "af319b16",
   "metadata": {},
   "source": [
    "# 2. Create 3x3 Matrix (2?10)\n",
    "\n",
    "Write a NumPy program to create a 3x3 matrix with values ranging from 2 to 10.\n",
    "\n",
    "Expected Output:\n",
    "\n",
    "[[ 2 3 4]\n",
    "[ 5 6 7]\n",
    "[ 8 9 10]]"
   ]
  },
  {
   "cell_type": "code",
   "execution_count": 11,
   "id": "af4ac180",
   "metadata": {},
   "outputs": [
    {
     "name": "stdout",
     "output_type": "stream",
     "text": [
      "[[ 2  3  4]\n",
      " [ 5  6  7]\n",
      " [ 8  9 10]]\n"
     ]
    }
   ],
   "source": [
    "my_list = []\n",
    "for i in range(2,11):\n",
    "    my_list.append(i)\n",
    "my_array = np.array(my_list).reshape(3,3)\n",
    "print(my_array)\n",
    "\n",
    "\n",
    "\n",
    "\n"
   ]
  },
  {
   "cell_type": "markdown",
   "id": "59b58780",
   "metadata": {},
   "source": [
    "# 3. Null Vector (10) & Update Sixth Value\n",
    "\n",
    "Write a NumPy program to create a null vector of size 10 and update the sixth value to 11.\n",
    "\n",
    "[ 0. 0. 0. 0. 0. 0. 0. 0. 0. 0.]\n",
    "\n",
    "Update sixth value to 11\n",
    "[ 0. 0. 0. 0. 0. 0. 11. 0. 0. 0.]"
   ]
  },
  {
   "cell_type": "code",
   "execution_count": 15,
   "id": "c955e5bf",
   "metadata": {},
   "outputs": [
    {
     "data": {
      "text/plain": [
       "array([ 0,  0,  0,  0,  0, 11,  0,  0,  0,  0])"
      ]
     },
     "execution_count": 15,
     "metadata": {},
     "output_type": "execute_result"
    }
   ],
   "source": [
    "my_array = np.array([0, 0, 0, 0, 0, 0, 0, 0, 0, 0])\n",
    "my_array[5] = 11\n",
    "my_array"
   ]
  },
  {
   "cell_type": "markdown",
   "id": "e991406d",
   "metadata": {},
   "source": [
    "# 4. Array from 12 to 38\n",
    "\n",
    "Write a NumPy program to create an array with values ranging from 12 to 38.\n",
    "\n",
    "Expected Output:\n",
    "\n",
    "[12 13 14 15 16 17 18 19 20 21 22 23 24 25 26 27 28 29 30 31 32 33 34 35 36 37]"
   ]
  },
  {
   "cell_type": "code",
   "execution_count": 16,
   "id": "48cb61f0",
   "metadata": {},
   "outputs": [
    {
     "data": {
      "text/plain": [
       "array([12, 13, 14, 15, 16, 17, 18, 19, 20, 21, 22, 23, 24, 25, 26, 27, 28,\n",
       "       29, 30, 31, 32, 33, 34, 35, 36, 37, 38])"
      ]
     },
     "execution_count": 16,
     "metadata": {},
     "output_type": "execute_result"
    }
   ],
   "source": [
    "my_array = np.arange(12,39)\n",
    "my_array"
   ]
  },
  {
   "cell_type": "markdown",
   "id": "723ee1e2",
   "metadata": {},
   "source": [
    "# 5. Convert Array to Float Type\n",
    "\n",
    "Write a NumPy program to convert an array to a floating type.\n",
    "\n",
    "Sample output:\n",
    "\n",
    "Original array\n",
    "[1, 2, 3, 4]"
   ]
  },
  {
   "cell_type": "code",
   "execution_count": 19,
   "id": "1bd103b9",
   "metadata": {},
   "outputs": [
    {
     "data": {
      "text/plain": [
       "array([1., 2., 3., 4.])"
      ]
     },
     "execution_count": 19,
     "metadata": {},
     "output_type": "execute_result"
    }
   ],
   "source": [
    "my_array = np.array([1, 2, 3, 4])\n",
    "my_array = my_array.astype(float)\n",
    "my_array\n"
   ]
  },
  {
   "cell_type": "markdown",
   "id": "7bd1900a",
   "metadata": {},
   "source": [
    "# 6. Celsius to Fahrenheit Conversion\n",
    "\n",
    "Write a NumPy program to convert Centigrade degrees into Fahrenheit degrees. Centigrade values are stored in a NumPy array.\n",
    "\n",
    "Sample Array [0, 12, 45.21, 34, 99.91]\n",
    "[-17.78, -11.11, 7.34, 1.11, 37.73, 0. ]\n",
    "\n",
    "Expected Output:\n",
    "\n",
    "Values in Fahrenheit degrees:\n",
    "[ 0. 12. 45.21 34. 99.91 32. ]\n",
    "\n",
    "Values in Centigrade degrees:\n",
    "[-17.78 -11.11 7.34 1.11 37.73 0. ]\n",
    "\n",
    "Values in Centigrade degrees:\n",
    "[-17.78 -11.11 7.34 1.11 37.73 0. ]\n",
    "\n",
    "Values in Fahrenheit degrees:\n",
    "[-0. 12. 45.21 34. 99.91 32. ]"
   ]
  },
  {
   "cell_type": "code",
   "execution_count": 23,
   "id": "68a50f8b",
   "metadata": {},
   "outputs": [
    {
     "data": {
      "text/plain": [
       "array([-0.  , 12.  , 45.21, 34.  , 99.91, 32.  ])"
      ]
     },
     "execution_count": 23,
     "metadata": {},
     "output_type": "execute_result"
    }
   ],
   "source": [
    "Sample_list = [0, 12, 45.21, 34, 99.91]\n",
    "sample_array = np.array(Sample_list)\n",
    "result_array = (sample_array - 32) * (5/9)\n",
    "result_array = result_array.round(2)\n",
    "result_array\n",
    "\n",
    "Sample_list1 = [-17.78, -11.11, 7.34, 1.11, 37.73, 0.]\n",
    "sample_array1 = np.array(Sample_list1)\n",
    "result_array1 = (9 *sample_array1 + 160) / 5\n",
    "result_array1 = result_array1.round(2)\n",
    "result_array1\n"
   ]
  },
  {
   "cell_type": "markdown",
   "id": "19e79a1e",
   "metadata": {},
   "source": [
    "# 7. Append Values to Array (Do self-tudy)\n",
    "\n",
    "Write a NumPy program to append values to the end of an array.\n",
    "\n",
    "Expected Output:\n",
    "\n",
    "Original array:\n",
    "[10, 20, 30]\n",
    "\n",
    "After append values to the end of the array:\n",
    "[10 20 30 40 50 60 70 80 90]"
   ]
  },
  {
   "cell_type": "code",
   "execution_count": 25,
   "id": "ab470b36",
   "metadata": {},
   "outputs": [
    {
     "data": {
      "text/plain": [
       "array([10, 20, 30, 40, 50, 60, 70, 80, 90])"
      ]
     },
     "execution_count": 25,
     "metadata": {},
     "output_type": "execute_result"
    }
   ],
   "source": [
    "my_list = [10, 20, 30]\n",
    "my_array =np.array(my_list)\n",
    "new_array = np.append(my_array, [40, 50, 60, 70, 80, 90])\n",
    "new_array\n"
   ]
  },
  {
   "cell_type": "markdown",
   "id": "0a1dc679",
   "metadata": {},
   "source": [
    "# 8. Array Statistical Functions (Do self-tudy)\n",
    "\n",
    "Create a random NumPy array of 10 elements and calculate the mean, median, and standard deviation of the array."
   ]
  },
  {
   "cell_type": "code",
   "execution_count": null,
   "id": "0c1f2960",
   "metadata": {},
   "outputs": [
    {
     "data": {
      "text/plain": [
       "np.float64(-0.2667635711107368)"
      ]
     },
     "execution_count": 31,
     "metadata": {},
     "output_type": "execute_result"
    }
   ],
   "source": [
    "my_array = np.random.randn(10)\n",
    "mean_array = np.mean(my_array)\n",
    "mean_array\n",
    "\n"
   ]
  },
  {
   "cell_type": "code",
   "execution_count": 32,
   "id": "0e430c81",
   "metadata": {},
   "outputs": [
    {
     "data": {
      "text/plain": [
       "np.float64(-0.3853787556653577)"
      ]
     },
     "execution_count": 32,
     "metadata": {},
     "output_type": "execute_result"
    }
   ],
   "source": [
    "median_array = np.median(my_array)\n",
    "median_array"
   ]
  },
  {
   "cell_type": "code",
   "execution_count": 33,
   "id": "c037c511",
   "metadata": {},
   "outputs": [
    {
     "data": {
      "text/plain": [
       "np.float64(0.9692321651670835)"
      ]
     },
     "execution_count": 33,
     "metadata": {},
     "output_type": "execute_result"
    }
   ],
   "source": [
    "std_array = np.std(my_array)\n",
    "std_array"
   ]
  },
  {
   "cell_type": "markdown",
   "id": "afa1d0da",
   "metadata": {},
   "source": [
    "# 9 Find min and max \n",
    "\n",
    "Create a 10x10 array with random values and find the minimum and maximum values."
   ]
  },
  {
   "cell_type": "code",
   "execution_count": 34,
   "id": "e437a345",
   "metadata": {},
   "outputs": [
    {
     "data": {
      "text/plain": [
       "np.float64(-0.2667635711107368)"
      ]
     },
     "execution_count": 34,
     "metadata": {},
     "output_type": "execute_result"
    }
   ],
   "source": [
    "my_array = np.random.randn(10,10)\n",
    "max_array = np.max(my_array)\n",
    "mean_array"
   ]
  },
  {
   "cell_type": "code",
   "execution_count": 36,
   "id": "4d3f4e47",
   "metadata": {},
   "outputs": [
    {
     "data": {
      "text/plain": [
       "np.float64(-2.6577502998974647)"
      ]
     },
     "execution_count": 36,
     "metadata": {},
     "output_type": "execute_result"
    }
   ],
   "source": [
    "my_array = np.random.randn(10,10)\n",
    "min_array = np.min(my_array)\n",
    "min_array"
   ]
  },
  {
   "cell_type": "markdown",
   "id": "818f3802",
   "metadata": {},
   "source": [
    "# 10 \n",
    "\n",
    "Create a 3x3x3 array with random values."
   ]
  },
  {
   "cell_type": "code",
   "execution_count": 39,
   "id": "af4efd8c",
   "metadata": {},
   "outputs": [
    {
     "data": {
      "text/plain": [
       "array([[[ 1.21579342,  1.80466358,  1.99623024],\n",
       "        [ 0.54497616, -0.48506308, -0.48243444],\n",
       "        [ 0.51610151,  0.42724082, -0.81134448]],\n",
       "\n",
       "       [[-0.14843508,  2.37583949, -0.6930156 ],\n",
       "        [ 0.57204359, -1.16545801, -0.36331058],\n",
       "        [-0.6386065 , -0.84437909, -1.62755479]],\n",
       "\n",
       "       [[ 0.28231565, -1.56987076,  0.02107994],\n",
       "        [-0.45451289, -0.17032383,  1.28136113],\n",
       "        [-0.98314744,  1.42926684, -0.44153562]]])"
      ]
     },
     "execution_count": 39,
     "metadata": {},
     "output_type": "execute_result"
    }
   ],
   "source": [
    "my_array = np.random.randn(3,3,3)\n",
    "my_array"
   ]
  }
 ],
 "metadata": {
  "kernelspec": {
   "display_name": "Python 3",
   "language": "python",
   "name": "python3"
  },
  "language_info": {
   "codemirror_mode": {
    "name": "ipython",
    "version": 3
   },
   "file_extension": ".py",
   "mimetype": "text/x-python",
   "name": "python",
   "nbconvert_exporter": "python",
   "pygments_lexer": "ipython3",
   "version": "3.13.3"
  }
 },
 "nbformat": 4,
 "nbformat_minor": 5
}
